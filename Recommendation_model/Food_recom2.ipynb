{
 "cells": [
  {
   "cell_type": "code",
   "execution_count": 1,
   "metadata": {},
   "outputs": [],
   "source": [
    "import pandas as pd\n",
    "import numpy as np\n",
    "import matplotlib.pyplot as plt\n",
    "import seaborn as sns"
   ]
  },
  {
   "cell_type": "code",
   "execution_count": 2,
   "metadata": {},
   "outputs": [
    {
     "data": {
      "text/plain": [
       "(141, 30)"
      ]
     },
     "execution_count": 2,
     "metadata": {},
     "output_type": "execute_result"
    }
   ],
   "source": [
    "df = pd.read_csv(\"Food Survey_141Responses.tsv\",sep = '\\t', lineterminator = '\\r')\n",
    "df.shape"
   ]
  },
  {
   "cell_type": "code",
   "execution_count": 3,
   "metadata": {},
   "outputs": [],
   "source": [
    "drop_col = [\"Timestamp\",\"Food sanctum that doesn't vibes with you\"]\n",
    "df.drop(drop_col,axis=1,inplace=True)"
   ]
  },
  {
   "cell_type": "code",
   "execution_count": 5,
   "metadata": {},
   "outputs": [
    {
     "name": "stdout",
     "output_type": "stream",
     "text": [
      "(141, 28)\n"
     ]
    },
    {
     "data": {
      "text/html": [
       "<div>\n",
       "<style scoped>\n",
       "    .dataframe tbody tr th:only-of-type {\n",
       "        vertical-align: middle;\n",
       "    }\n",
       "\n",
       "    .dataframe tbody tr th {\n",
       "        vertical-align: top;\n",
       "    }\n",
       "\n",
       "    .dataframe thead th {\n",
       "        text-align: right;\n",
       "    }\n",
       "</style>\n",
       "<table border=\"1\" class=\"dataframe\">\n",
       "  <thead>\n",
       "    <tr style=\"text-align: right;\">\n",
       "      <th></th>\n",
       "      <th>What's your name?</th>\n",
       "      <th>Year?</th>\n",
       "      <th>Select one?</th>\n",
       "      <th>Prefer, North Indian or South Indian?</th>\n",
       "      <th>Vegetarian?</th>\n",
       "      <th>What would you rather prefer?</th>\n",
       "      <th>Preferred place for Breakfast? (except mess :p)</th>\n",
       "      <th>Preferred place for Lunch ?(except mess :P)</th>\n",
       "      <th>Preferred place for Dinner ?(except mess :P)</th>\n",
       "      <th>Select One:</th>\n",
       "      <th>...</th>\n",
       "      <th>Rolls</th>\n",
       "      <th>Samosa/Puff</th>\n",
       "      <th>Pani Puri/Chat</th>\n",
       "      <th>Shawarma</th>\n",
       "      <th>Sugar Rush</th>\n",
       "      <th>Preferred choice</th>\n",
       "      <th>Spicy 🌶️</th>\n",
       "      <th>Sweet 🍬</th>\n",
       "      <th>Name the food Sanctum</th>\n",
       "      <th>Preferred choice.1</th>\n",
       "    </tr>\n",
       "  </thead>\n",
       "  <tbody>\n",
       "    <tr>\n",
       "      <th>0</th>\n",
       "      <td>Sushant khatri</td>\n",
       "      <td>I</td>\n",
       "      <td>Hosteller</td>\n",
       "      <td>North Indian</td>\n",
       "      <td>No</td>\n",
       "      <td>Take-away</td>\n",
       "      <td>Butty</td>\n",
       "      <td>Chickwalk</td>\n",
       "      <td>Being Punjabi</td>\n",
       "      <td>Street Indian</td>\n",
       "      <td>...</td>\n",
       "      <td>Nawab choice restraunt</td>\n",
       "      <td>Evergreen</td>\n",
       "      <td>Delhi 6</td>\n",
       "      <td>Classic Chettinadu restraunt</td>\n",
       "      <td>Bliss cafe</td>\n",
       "      <td>Spicy</td>\n",
       "      <td>Classic Chettinadu restraunt</td>\n",
       "      <td>Baski Chef</td>\n",
       "      <td>Google</td>\n",
       "      <td>NaN</td>\n",
       "    </tr>\n",
       "    <tr>\n",
       "      <th>1</th>\n",
       "      <td>Muskaan Dhadwal</td>\n",
       "      <td>III</td>\n",
       "      <td>Day Scholar</td>\n",
       "      <td>Both</td>\n",
       "      <td>No</td>\n",
       "      <td>Take-away</td>\n",
       "      <td>Butty</td>\n",
       "      <td>Jet cafe</td>\n",
       "      <td>Faruuzi</td>\n",
       "      <td>Continental</td>\n",
       "      <td>...</td>\n",
       "      <td>Google</td>\n",
       "      <td>Bombay tea stall</td>\n",
       "      <td>Spartans</td>\n",
       "      <td>Google</td>\n",
       "      <td>Chocoman</td>\n",
       "      <td>Sweet</td>\n",
       "      <td>Butty</td>\n",
       "      <td>Roll over</td>\n",
       "      <td>Baski Chef</td>\n",
       "      <td>NaN</td>\n",
       "    </tr>\n",
       "  </tbody>\n",
       "</table>\n",
       "<p>2 rows × 28 columns</p>\n",
       "</div>"
      ],
      "text/plain": [
       "  What's your name? Year?  Select one? Prefer, North Indian or South Indian?  \\\n",
       "0    Sushant khatri     I    Hosteller                          North Indian   \n",
       "1   Muskaan Dhadwal   III  Day Scholar                                  Both   \n",
       "\n",
       "  Vegetarian? What would you rather prefer?  \\\n",
       "0          No                     Take-away   \n",
       "1          No                     Take-away   \n",
       "\n",
       "  Preferred place for Breakfast? (except mess :p)  \\\n",
       "0                                           Butty   \n",
       "1                                           Butty   \n",
       "\n",
       "  Preferred place for Lunch ?(except mess :P)  \\\n",
       "0                                   Chickwalk   \n",
       "1                                    Jet cafe   \n",
       "\n",
       "  Preferred place for Dinner ?(except mess :P)    Select One:  ...  \\\n",
       "0                                Being Punjabi  Street Indian  ...   \n",
       "1                                      Faruuzi    Continental  ...   \n",
       "\n",
       "                    Rolls       Samosa/Puff Pani Puri/Chat  \\\n",
       "0  Nawab choice restraunt         Evergreen        Delhi 6   \n",
       "1                  Google  Bombay tea stall       Spartans   \n",
       "\n",
       "                       Shawarma  Sugar Rush Preferred choice  \\\n",
       "0  Classic Chettinadu restraunt  Bliss cafe            Spicy   \n",
       "1                        Google    Chocoman            Sweet   \n",
       "\n",
       "                       Spicy 🌶️     Sweet 🍬 Name the food Sanctum  \\\n",
       "0  Classic Chettinadu restraunt  Baski Chef                Google   \n",
       "1                         Butty   Roll over            Baski Chef   \n",
       "\n",
       "  Preferred choice.1  \n",
       "0                NaN  \n",
       "1                NaN  \n",
       "\n",
       "[2 rows x 28 columns]"
      ]
     },
     "execution_count": 5,
     "metadata": {},
     "output_type": "execute_result"
    }
   ],
   "source": [
    "print(df.shape)\n",
    "df.head(2)"
   ]
  },
  {
   "cell_type": "code",
   "execution_count": 6,
   "metadata": {},
   "outputs": [
    {
     "data": {
      "text/plain": [
       "Index(['What's your name?', 'Year?', 'Select one?',\n",
       "       'Prefer, North Indian or South Indian?', 'Vegetarian?',\n",
       "       'What would you rather prefer?',\n",
       "       'Preferred place for Breakfast? (except mess :p)',\n",
       "       'Preferred place for Lunch ?(except mess :P)',\n",
       "       'Preferred place for Dinner ?(except mess :P)', 'Select One:',\n",
       "       'Preferred Chinese Place', 'Preferred Italian Place',\n",
       "       'Preferred North Indian Place', 'Preferred South Indian Place',\n",
       "       'Preferred Continental Place', 'Tea/Coffee', 'Maggie',\n",
       "       'Juices/Milkshakes/Lime', 'Rolls', 'Samosa/Puff', 'Pani Puri/Chat',\n",
       "       'Shawarma', 'Sugar Rush', 'Preferred choice', 'Spicy 🌶️', 'Sweet 🍬',\n",
       "       'Name the food Sanctum', 'Preferred choice.1'],\n",
       "      dtype='object')"
      ]
     },
     "execution_count": 6,
     "metadata": {},
     "output_type": "execute_result"
    }
   ],
   "source": [
    "df.columns"
   ]
  },
  {
   "cell_type": "code",
   "execution_count": 7,
   "metadata": {},
   "outputs": [
    {
     "name": "stdout",
     "output_type": "stream",
     "text": [
      "(53, 27)\n"
     ]
    },
    {
     "name": "stderr",
     "output_type": "stream",
     "text": [
      "/home/vipul/.local/lib/python3.6/site-packages/pandas/core/frame.py:3997: SettingWithCopyWarning: \n",
      "A value is trying to be set on a copy of a slice from a DataFrame\n",
      "\n",
      "See the caveats in the documentation: https://pandas.pydata.org/pandas-docs/stable/user_guide/indexing.html#returning-a-view-versus-a-copy\n",
      "  errors=errors,\n"
     ]
    },
    {
     "data": {
      "text/plain": [
       "(53, 27)"
      ]
     },
     "execution_count": 7,
     "metadata": {},
     "output_type": "execute_result"
    }
   ],
   "source": [
    "df1 = df.iloc[88:,:]\n",
    "df1.drop([\"Preferred choice\"],axis = 1,inplace = True)\n",
    "print(df1.shape)\n",
    "df1.columns = [\"What's your name?\", 'Year?', 'Select one?','Prefer, North Indian or South Indian?', 'Vegetarian?',\n",
    "       'What would you rather prefer?',\n",
    "       'Preferred place for Breakfast? (except mess :p)',\n",
    "       'Preferred place for Lunch ?(except mess :P)',\n",
    "       'Preferred place for Dinner ?(except mess :P)', 'Select One:',\n",
    "       'Preferred Chinese Place', 'Preferred Italian Place',\n",
    "       'Preferred North Indian Place', 'Preferred South Indian Place',\n",
    "       'Preferred Continental Place', 'Tea/Coffee', 'Maggie',\n",
    "       'Juices/Milkshakes/Lime', 'Rolls', 'Samosa/Puff', 'Pani Puri/Chat',\n",
    "       'Shawarma', 'Sugar Rush', 'Spicy 🌶️', 'Sweet 🍬',\n",
    "       'Name the food Sanctum', 'Preferred choice']\n",
    "df1.shape"
   ]
  },
  {
   "cell_type": "code",
   "execution_count": 8,
   "metadata": {},
   "outputs": [
    {
     "data": {
      "text/plain": [
       "(88, 27)"
      ]
     },
     "execution_count": 8,
     "metadata": {},
     "output_type": "execute_result"
    }
   ],
   "source": [
    "df = df.iloc[:88,:]\n",
    "df.drop([\"Preferred choice.1\"],axis = 1,inplace = True)\n",
    "df.columns = [\"What's your name?\", 'Year?', 'Select one?',\n",
    "       'Prefer, North Indian or South Indian?', 'Vegetarian?',\n",
    "       'What would you rather prefer?',\n",
    "       'Preferred place for Breakfast? (except mess :p)',\n",
    "       'Preferred place for Lunch ?(except mess :P)',\n",
    "       'Preferred place for Dinner ?(except mess :P)', 'Select One:',\n",
    "       'Preferred Chinese Place', 'Preferred Italian Place',\n",
    "       'Preferred North Indian Place', 'Preferred South Indian Place',\n",
    "       'Preferred Continental Place', 'Tea/Coffee', 'Maggie',\n",
    "       'Juices/Milkshakes/Lime', 'Rolls', 'Samosa/Puff', 'Pani Puri/Chat',\n",
    "       'Shawarma', 'Sugar Rush', 'Preferred choice', 'Spicy 🌶️', 'Sweet 🍬',\n",
    "       'Name the food Sanctum']\n",
    "df.shape"
   ]
  },
  {
   "cell_type": "code",
   "execution_count": 9,
   "metadata": {},
   "outputs": [
    {
     "data": {
      "text/plain": [
       "(141, 27)"
      ]
     },
     "execution_count": 9,
     "metadata": {},
     "output_type": "execute_result"
    }
   ],
   "source": [
    "df = pd.concat([df,df1],ignore_index=True)\n",
    "df.shape"
   ]
  },
  {
   "cell_type": "code",
   "execution_count": 10,
   "metadata": {},
   "outputs": [
    {
     "data": {
      "text/plain": [
       "Index(['What's your name?', 'Year?', 'Select one?',\n",
       "       'Prefer, North Indian or South Indian?', 'Vegetarian?',\n",
       "       'What would you rather prefer?',\n",
       "       'Preferred place for Breakfast? (except mess :p)',\n",
       "       'Preferred place for Lunch ?(except mess :P)',\n",
       "       'Preferred place for Dinner ?(except mess :P)', 'Select One:',\n",
       "       'Preferred Chinese Place', 'Preferred Italian Place',\n",
       "       'Preferred North Indian Place', 'Preferred South Indian Place',\n",
       "       'Preferred Continental Place', 'Tea/Coffee', 'Maggie',\n",
       "       'Juices/Milkshakes/Lime', 'Rolls', 'Samosa/Puff', 'Pani Puri/Chat',\n",
       "       'Shawarma', 'Sugar Rush', 'Preferred choice', 'Spicy 🌶️', 'Sweet 🍬',\n",
       "       'Name the food Sanctum'],\n",
       "      dtype='object')"
      ]
     },
     "execution_count": 10,
     "metadata": {},
     "output_type": "execute_result"
    }
   ],
   "source": [
    "df.columns"
   ]
  },
  {
   "cell_type": "code",
   "execution_count": 11,
   "metadata": {},
   "outputs": [
    {
     "name": "stdout",
     "output_type": "stream",
     "text": [
      "Index(['Name', 'Year', 'Hosteller', 'North-South', 'Vegetarian', 'Dine-in',\n",
      "       'Breakfast', 'Lunch', 'Dinner', 'Cusinies', 'Chinese', 'Italain',\n",
      "       'North', 'South', 'Continental', 'Tea/Coffee', 'Maggie', 'Juices',\n",
      "       'Rolls', 'Samosa/Puff', 'Panipuri', 'Shawarma', 'Sugar rush',\n",
      "       'Spicy-Sweet', 'Spicy', 'Sweet', 'All-time'],\n",
      "      dtype='object')\n"
     ]
    }
   ],
   "source": [
    "cols = [\"Name\",\"Year\",\"Hosteller\",\"North-South\",\"Vegetarian\",\"Dine-in\",\"Breakfast\",\"Lunch\",\"Dinner\",\"Cusinies\",\"Chinese\",\"Italain\",\n",
    "       \"North\",\"South\",\"Continental\",\"Tea/Coffee\",\"Maggie\",\"Juices\",\"Rolls\",\"Samosa/Puff\",\"Panipuri\",\"Shawarma\",\"Sugar rush\",\n",
    "       \"Spicy-Sweet\",\"Spicy\",\"Sweet\",\"All-time\"]\n",
    "df.columns = cols\n",
    "print(df.columns)"
   ]
  },
  {
   "cell_type": "code",
   "execution_count": 12,
   "metadata": {},
   "outputs": [
    {
     "name": "stdout",
     "output_type": "stream",
     "text": [
      "<class 'pandas.core.frame.DataFrame'>\n",
      "RangeIndex: 141 entries, 0 to 140\n",
      "Data columns (total 27 columns):\n",
      " #   Column       Non-Null Count  Dtype \n",
      "---  ------       --------------  ----- \n",
      " 0   Name         141 non-null    object\n",
      " 1   Year         141 non-null    object\n",
      " 2   Hosteller    141 non-null    object\n",
      " 3   North-South  141 non-null    object\n",
      " 4   Vegetarian   141 non-null    object\n",
      " 5   Dine-in      141 non-null    object\n",
      " 6   Breakfast    88 non-null     object\n",
      " 7   Lunch        88 non-null     object\n",
      " 8   Dinner       141 non-null    object\n",
      " 9   Cusinies     140 non-null    object\n",
      " 10  Chinese      141 non-null    object\n",
      " 11  Italain      141 non-null    object\n",
      " 12  North        141 non-null    object\n",
      " 13  South        141 non-null    object\n",
      " 14  Continental  141 non-null    object\n",
      " 15  Tea/Coffee   88 non-null     object\n",
      " 16  Maggie       141 non-null    object\n",
      " 17  Juices       141 non-null    object\n",
      " 18  Rolls        88 non-null     object\n",
      " 19  Samosa/Puff  88 non-null     object\n",
      " 20  Panipuri     88 non-null     object\n",
      " 21  Shawarma     74 non-null     object\n",
      " 22  Sugar rush   88 non-null     object\n",
      " 23  Spicy-Sweet  141 non-null    object\n",
      " 24  Spicy        88 non-null     object\n",
      " 25  Sweet        88 non-null     object\n",
      " 26  All-time     141 non-null    object\n",
      "dtypes: object(27)\n",
      "memory usage: 29.9+ KB\n"
     ]
    }
   ],
   "source": [
    "df.info()"
   ]
  },
  {
   "cell_type": "code",
   "execution_count": 13,
   "metadata": {},
   "outputs": [
    {
     "data": {
      "text/plain": [
       "(141, 17)"
      ]
     },
     "execution_count": 13,
     "metadata": {},
     "output_type": "execute_result"
    }
   ],
   "source": [
    "cols = [\"Name\", \"Year\", \"Hosteller\", \"North-South\", \"Vegetarian\", \"Dine-in\",\"Dinner\", \"Cusinies\", \"Chinese\",\n",
    "        \"Italain\",\"North\", \"South\", \"Continental\",\"Maggie\", \"Juices\",\"Spicy-Sweet\",\"All-time\"]\n",
    "\n",
    "udf = df[cols]\n",
    "udf.shape"
   ]
  },
  {
   "cell_type": "code",
   "execution_count": 14,
   "metadata": {},
   "outputs": [
    {
     "name": "stdout",
     "output_type": "stream",
     "text": [
      "<class 'pandas.core.frame.DataFrame'>\n",
      "RangeIndex: 141 entries, 0 to 140\n",
      "Data columns (total 17 columns):\n",
      " #   Column       Non-Null Count  Dtype \n",
      "---  ------       --------------  ----- \n",
      " 0   Name         141 non-null    object\n",
      " 1   Year         141 non-null    object\n",
      " 2   Hosteller    141 non-null    object\n",
      " 3   North-South  141 non-null    object\n",
      " 4   Vegetarian   141 non-null    object\n",
      " 5   Dine-in      141 non-null    object\n",
      " 6   Dinner       141 non-null    object\n",
      " 7   Cusinies     140 non-null    object\n",
      " 8   Chinese      141 non-null    object\n",
      " 9   Italain      141 non-null    object\n",
      " 10  North        141 non-null    object\n",
      " 11  South        141 non-null    object\n",
      " 12  Continental  141 non-null    object\n",
      " 13  Maggie       141 non-null    object\n",
      " 14  Juices       141 non-null    object\n",
      " 15  Spicy-Sweet  141 non-null    object\n",
      " 16  All-time     141 non-null    object\n",
      "dtypes: object(17)\n",
      "memory usage: 18.9+ KB\n"
     ]
    }
   ],
   "source": [
    "udf.info()"
   ]
  },
  {
   "cell_type": "code",
   "execution_count": 71,
   "metadata": {},
   "outputs": [
    {
     "data": {
      "image/png": "[encoded data removed]",
      "text/plain": [
       "<Figure size 432x288 with 1 Axes>"
      ]
     },
     "metadata": {
      "needs_background": "light"
     },
     "output_type": "display_data"
    }
   ],
   "source": [
    "top_10_restro = dict(udf['All-time'].value_counts().sort_values(ascending = False).head(10))\n",
    "udf[\"All-time\"].value_counts().head(10).plot(kind='bar')\n",
    "plt.title(\"Top-10 restrurants\")\n",
    "plt.show()"
   ]
  },
  {
   "cell_type": "code",
   "execution_count": 16,
   "metadata": {},
   "outputs": [],
   "source": [
    "personal_pref_feature = ['Name','Year','Vegetarian','Cusinies','Spicy-Sweet']"
   ]
  },
  {
   "cell_type": "code",
   "execution_count": 18,
   "metadata": {},
   "outputs": [
    {
     "name": "stderr",
     "output_type": "stream",
     "text": [
      "/home/vipul/.local/lib/python3.6/site-packages/pandas/core/generic.py:6245: SettingWithCopyWarning: \n",
      "A value is trying to be set on a copy of a slice from a DataFrame\n",
      "\n",
      "See the caveats in the documentation: https://pandas.pydata.org/pandas-docs/stable/user_guide/indexing.html#returning-a-view-versus-a-copy\n",
      "  self._update_inplace(new_data)\n"
     ]
    }
   ],
   "source": [
    "udf.Cusinies.fillna(method='ffill',inplace=True)"
   ]
  },
  {
   "cell_type": "code",
   "execution_count": 19,
   "metadata": {},
   "outputs": [
    {
     "name": "stdout",
     "output_type": "stream",
     "text": [
      "<class 'pandas.core.frame.DataFrame'>\n",
      "RangeIndex: 141 entries, 0 to 140\n",
      "Data columns (total 17 columns):\n",
      " #   Column       Non-Null Count  Dtype \n",
      "---  ------       --------------  ----- \n",
      " 0   Name         141 non-null    object\n",
      " 1   Year         141 non-null    object\n",
      " 2   Hosteller    141 non-null    object\n",
      " 3   North-South  141 non-null    object\n",
      " 4   Vegetarian   141 non-null    object\n",
      " 5   Dine-in      141 non-null    object\n",
      " 6   Dinner       141 non-null    object\n",
      " 7   Cusinies     141 non-null    object\n",
      " 8   Chinese      141 non-null    object\n",
      " 9   Italain      141 non-null    object\n",
      " 10  North        141 non-null    object\n",
      " 11  South        141 non-null    object\n",
      " 12  Continental  141 non-null    object\n",
      " 13  Maggie       141 non-null    object\n",
      " 14  Juices       141 non-null    object\n",
      " 15  Spicy-Sweet  141 non-null    object\n",
      " 16  All-time     141 non-null    object\n",
      "dtypes: object(17)\n",
      "memory usage: 18.9+ KB\n"
     ]
    }
   ],
   "source": [
    "udf.info()"
   ]
  },
  {
   "cell_type": "code",
   "execution_count": 22,
   "metadata": {},
   "outputs": [
    {
     "data": {
      "text/html": [
       "<div>\n",
       "<style scoped>\n",
       "    .dataframe tbody tr th:only-of-type {\n",
       "        vertical-align: middle;\n",
       "    }\n",
       "\n",
       "    .dataframe tbody tr th {\n",
       "        vertical-align: top;\n",
       "    }\n",
       "\n",
       "    .dataframe thead th {\n",
       "        text-align: right;\n",
       "    }\n",
       "</style>\n",
       "<table border=\"1\" class=\"dataframe\">\n",
       "  <thead>\n",
       "    <tr style=\"text-align: right;\">\n",
       "      <th></th>\n",
       "      <th>Name</th>\n",
       "      <th>Year</th>\n",
       "      <th>Hosteller</th>\n",
       "      <th>North-South</th>\n",
       "      <th>Vegetarian</th>\n",
       "      <th>Dine-in</th>\n",
       "      <th>Dinner</th>\n",
       "      <th>Cusinies</th>\n",
       "      <th>Chinese</th>\n",
       "      <th>Italain</th>\n",
       "      <th>North</th>\n",
       "      <th>South</th>\n",
       "      <th>Continental</th>\n",
       "      <th>Maggie</th>\n",
       "      <th>Juices</th>\n",
       "      <th>Spicy-Sweet</th>\n",
       "      <th>All-time</th>\n",
       "    </tr>\n",
       "  </thead>\n",
       "  <tbody>\n",
       "    <tr>\n",
       "      <th>0</th>\n",
       "      <td>Sushant khatri</td>\n",
       "      <td>I</td>\n",
       "      <td>Hosteller</td>\n",
       "      <td>North Indian</td>\n",
       "      <td>No</td>\n",
       "      <td>Take-away</td>\n",
       "      <td>Being Punjabi</td>\n",
       "      <td>Street Indian</td>\n",
       "      <td>Blanc Cafe</td>\n",
       "      <td>Cheesy Juicy Burgers</td>\n",
       "      <td>Baski Chef</td>\n",
       "      <td>Amana cafe</td>\n",
       "      <td>Golocandas Restaurant</td>\n",
       "      <td>Chai kings</td>\n",
       "      <td>Hot Chips</td>\n",
       "      <td>Spicy</td>\n",
       "      <td>Google</td>\n",
       "    </tr>\n",
       "    <tr>\n",
       "      <th>1</th>\n",
       "      <td>Muskaan Dhadwal</td>\n",
       "      <td>III</td>\n",
       "      <td>Day Scholar</td>\n",
       "      <td>Both</td>\n",
       "      <td>No</td>\n",
       "      <td>Take-away</td>\n",
       "      <td>Faruuzi</td>\n",
       "      <td>Continental</td>\n",
       "      <td>Tibetian cafe</td>\n",
       "      <td>Bliss cafe</td>\n",
       "      <td>Faruuzi</td>\n",
       "      <td>Shri Balajee Bhavan</td>\n",
       "      <td>Baski Chef</td>\n",
       "      <td>Blueberry</td>\n",
       "      <td>Lassi shop</td>\n",
       "      <td>Sweet</td>\n",
       "      <td>Baski Chef</td>\n",
       "    </tr>\n",
       "    <tr>\n",
       "      <th>2</th>\n",
       "      <td>Ishika</td>\n",
       "      <td>I</td>\n",
       "      <td>Hosteller</td>\n",
       "      <td>North Indian</td>\n",
       "      <td>No</td>\n",
       "      <td>Take-away</td>\n",
       "      <td>Google+</td>\n",
       "      <td>Chinese</td>\n",
       "      <td>Nawab choice restaurant</td>\n",
       "      <td>Rock N Roll</td>\n",
       "      <td>Nawab choice restaurant</td>\n",
       "      <td>A2B</td>\n",
       "      <td>Being Punjabi</td>\n",
       "      <td>Chai kings</td>\n",
       "      <td>Sharjah juices</td>\n",
       "      <td>Spicy</td>\n",
       "      <td>Google+</td>\n",
       "    </tr>\n",
       "    <tr>\n",
       "      <th>3</th>\n",
       "      <td>Darshan Patel</td>\n",
       "      <td>I</td>\n",
       "      <td>Day Scholar</td>\n",
       "      <td>Both</td>\n",
       "      <td>Yes</td>\n",
       "      <td>Dine-in</td>\n",
       "      <td>Subway</td>\n",
       "      <td>North Indian</td>\n",
       "      <td>Rock N Roll</td>\n",
       "      <td>Rock N Roll</td>\n",
       "      <td>Classic biryani</td>\n",
       "      <td>Date Palm</td>\n",
       "      <td>Cafe H</td>\n",
       "      <td>Brain chai house</td>\n",
       "      <td>Sharjah juices</td>\n",
       "      <td>Spicy</td>\n",
       "      <td>Cafe H</td>\n",
       "    </tr>\n",
       "    <tr>\n",
       "      <th>4</th>\n",
       "      <td>Soumya Das</td>\n",
       "      <td>I</td>\n",
       "      <td>Hosteller</td>\n",
       "      <td>Both</td>\n",
       "      <td>No</td>\n",
       "      <td>Dine-in</td>\n",
       "      <td>Google</td>\n",
       "      <td>North Indian</td>\n",
       "      <td>Classic Chettinadu restaurant</td>\n",
       "      <td>Bliss cafe</td>\n",
       "      <td>Google</td>\n",
       "      <td>A2B</td>\n",
       "      <td>Jet cafe</td>\n",
       "      <td>Sharjah juices</td>\n",
       "      <td>Sharjah juices</td>\n",
       "      <td>Spicy</td>\n",
       "      <td>Google</td>\n",
       "    </tr>\n",
       "  </tbody>\n",
       "</table>\n",
       "</div>"
      ],
      "text/plain": [
       "              Name Year    Hosteller   North-South Vegetarian    Dine-in  \\\n",
       "0   Sushant khatri    I    Hosteller  North Indian         No  Take-away   \n",
       "1  Muskaan Dhadwal  III  Day Scholar          Both         No  Take-away   \n",
       "2           Ishika    I    Hosteller  North Indian         No  Take-away   \n",
       "3    Darshan Patel    I  Day Scholar          Both        Yes    Dine-in   \n",
       "4       Soumya Das    I    Hosteller          Both         No    Dine-in   \n",
       "\n",
       "          Dinner       Cusinies                        Chinese  \\\n",
       "0  Being Punjabi  Street Indian                     Blanc Cafe   \n",
       "1        Faruuzi    Continental                  Tibetian cafe   \n",
       "2        Google+        Chinese        Nawab choice restaurant   \n",
       "3         Subway   North Indian                    Rock N Roll   \n",
       "4         Google   North Indian  Classic Chettinadu restaurant   \n",
       "\n",
       "                Italain                    North                South  \\\n",
       "0  Cheesy Juicy Burgers               Baski Chef           Amana cafe   \n",
       "1            Bliss cafe                  Faruuzi  Shri Balajee Bhavan   \n",
       "2           Rock N Roll  Nawab choice restaurant                  A2B   \n",
       "3           Rock N Roll          Classic biryani            Date Palm   \n",
       "4            Bliss cafe                   Google                  A2B   \n",
       "\n",
       "             Continental            Maggie          Juices Spicy-Sweet  \\\n",
       "0  Golocandas Restaurant        Chai kings       Hot Chips       Spicy   \n",
       "1             Baski Chef         Blueberry      Lassi shop       Sweet   \n",
       "2          Being Punjabi        Chai kings  Sharjah juices       Spicy   \n",
       "3                 Cafe H  Brain chai house  Sharjah juices       Spicy   \n",
       "4               Jet cafe    Sharjah juices  Sharjah juices       Spicy   \n",
       "\n",
       "     All-time  \n",
       "0      Google  \n",
       "1  Baski Chef  \n",
       "2     Google+  \n",
       "3      Cafe H  \n",
       "4      Google  "
      ]
     },
     "execution_count": 22,
     "metadata": {},
     "output_type": "execute_result"
    }
   ],
   "source": [
    "udf.head()"
   ]
  },
  {
   "cell_type": "code",
   "execution_count": 39,
   "metadata": {},
   "outputs": [
    {
     "name": "stdout",
     "output_type": "stream",
     "text": [
      "The old shape (141, 17)\n",
      "The new shape (141, 369)\n"
     ]
    }
   ],
   "source": [
    "print(f\"The old shape {udf.shape}\")\n",
    "from sklearn.preprocessing import OneHotEncoder\n",
    "enc = OneHotEncoder(drop='first')\n",
    "X_coded = enc.fit_transform(udf.iloc[:,1:])\n",
    "print(f\"The new shape {X_coded.shape}\")"
   ]
  },
  {
   "cell_type": "code",
   "execution_count": 41,
   "metadata": {},
   "outputs": [
    {
     "name": "stdout",
     "output_type": "stream",
     "text": [
      "The old shape (141, 17)\n",
      "The new shape (141, 369)\n"
     ]
    }
   ],
   "source": [
    "print(f\"The old shape {udf.shape}\")\n",
    "X_coded_pandas = pd.get_dummies(udf.iloc[:,1:], prefix_sep = \"_\",drop_first = True)\n",
    "print(f\"The new shape {X_coded_pandas.shape}\")"
   ]
  },
  {
   "cell_type": "code",
   "execution_count": 42,
   "metadata": {},
   "outputs": [],
   "source": [
    "from sklearn.preprocessing import StandardScaler\n",
    "sc = StandardScaler()\n",
    "X_scaled = sc.fit_transform(X_coded_pandas)"
   ]
  },
  {
   "cell_type": "code",
   "execution_count": 43,
   "metadata": {},
   "outputs": [
    {
     "data": {
      "text/html": [
       "<div>\n",
       "<style scoped>\n",
       "    .dataframe tbody tr th:only-of-type {\n",
       "        vertical-align: middle;\n",
       "    }\n",
       "\n",
       "    .dataframe tbody tr th {\n",
       "        vertical-align: top;\n",
       "    }\n",
       "\n",
       "    .dataframe thead th {\n",
       "        text-align: right;\n",
       "    }\n",
       "</style>\n",
       "<table border=\"1\" class=\"dataframe\">\n",
       "  <thead>\n",
       "    <tr style=\"text-align: right;\">\n",
       "      <th></th>\n",
       "      <th>Year_II</th>\n",
       "      <th>Year_III</th>\n",
       "      <th>Year_IV</th>\n",
       "      <th>Hosteller_Hosteller</th>\n",
       "      <th>North-South_North Indian</th>\n",
       "      <th>North-South_South Indian</th>\n",
       "      <th>Vegetarian_Yes</th>\n",
       "      <th>Dine-in_Take-away</th>\n",
       "      <th>Dinner_Al Sham</th>\n",
       "      <th>Dinner_Amana cafe</th>\n",
       "      <th>...</th>\n",
       "      <th>All-time_Rock N Roll</th>\n",
       "      <th>All-time_Shri Balajee Bhavan</th>\n",
       "      <th>All-time_Smart choice</th>\n",
       "      <th>All-time_Srm canteeen</th>\n",
       "      <th>All-time_Subway</th>\n",
       "      <th>All-time_Sunny days</th>\n",
       "      <th>All-time_Taj restaurant</th>\n",
       "      <th>All-time_Thickshake Factory</th>\n",
       "      <th>All-time_Tibetian cafe</th>\n",
       "      <th>All-time_Uzo Sandwiches</th>\n",
       "    </tr>\n",
       "  </thead>\n",
       "  <tbody>\n",
       "    <tr>\n",
       "      <th>0</th>\n",
       "      <td>0</td>\n",
       "      <td>0</td>\n",
       "      <td>0</td>\n",
       "      <td>1</td>\n",
       "      <td>1</td>\n",
       "      <td>0</td>\n",
       "      <td>0</td>\n",
       "      <td>1</td>\n",
       "      <td>0</td>\n",
       "      <td>0</td>\n",
       "      <td>...</td>\n",
       "      <td>0</td>\n",
       "      <td>0</td>\n",
       "      <td>0</td>\n",
       "      <td>0</td>\n",
       "      <td>0</td>\n",
       "      <td>0</td>\n",
       "      <td>0</td>\n",
       "      <td>0</td>\n",
       "      <td>0</td>\n",
       "      <td>0</td>\n",
       "    </tr>\n",
       "    <tr>\n",
       "      <th>1</th>\n",
       "      <td>0</td>\n",
       "      <td>1</td>\n",
       "      <td>0</td>\n",
       "      <td>0</td>\n",
       "      <td>0</td>\n",
       "      <td>0</td>\n",
       "      <td>0</td>\n",
       "      <td>1</td>\n",
       "      <td>0</td>\n",
       "      <td>0</td>\n",
       "      <td>...</td>\n",
       "      <td>0</td>\n",
       "      <td>0</td>\n",
       "      <td>0</td>\n",
       "      <td>0</td>\n",
       "      <td>0</td>\n",
       "      <td>0</td>\n",
       "      <td>0</td>\n",
       "      <td>0</td>\n",
       "      <td>0</td>\n",
       "      <td>0</td>\n",
       "    </tr>\n",
       "  </tbody>\n",
       "</table>\n",
       "<p>2 rows × 369 columns</p>\n",
       "</div>"
      ],
      "text/plain": [
       "   Year_II  Year_III  Year_IV  Hosteller_Hosteller  North-South_North Indian  \\\n",
       "0        0         0        0                    1                         1   \n",
       "1        0         1        0                    0                         0   \n",
       "\n",
       "   North-South_South Indian  Vegetarian_Yes  Dine-in_Take-away  \\\n",
       "0                         0               0                  1   \n",
       "1                         0               0                  1   \n",
       "\n",
       "   Dinner_Al Sham  Dinner_Amana cafe  ...  All-time_Rock N Roll  \\\n",
       "0               0                  0  ...                     0   \n",
       "1               0                  0  ...                     0   \n",
       "\n",
       "   All-time_Shri Balajee Bhavan  All-time_Smart choice  All-time_Srm canteeen  \\\n",
       "0                             0                      0                      0   \n",
       "1                             0                      0                      0   \n",
       "\n",
       "   All-time_Subway  All-time_Sunny days  All-time_Taj restaurant  \\\n",
       "0                0                    0                        0   \n",
       "1                0                    0                        0   \n",
       "\n",
       "   All-time_Thickshake Factory  All-time_Tibetian cafe  \\\n",
       "0                            0                       0   \n",
       "1                            0                       0   \n",
       "\n",
       "   All-time_Uzo Sandwiches  \n",
       "0                        0  \n",
       "1                        0  \n",
       "\n",
       "[2 rows x 369 columns]"
      ]
     },
     "execution_count": 43,
     "metadata": {},
     "output_type": "execute_result"
    }
   ],
   "source": [
    "X_coded_pandas.head(2)"
   ]
  },
  {
   "cell_type": "code",
   "execution_count": 45,
   "metadata": {},
   "outputs": [
    {
     "data": {
      "image/png": "[encoded data removed]",
      "text/plain": [
       "<Figure size 432x288 with 1 Axes>"
      ]
     },
     "metadata": {
      "needs_background": "light"
     },
     "output_type": "display_data"
    }
   ],
   "source": [
    "from sklearn.decomposition import PCA\n",
    "\n",
    "pca = PCA(n_components=20)\n",
    "principalComponents = pca.fit_transform(X_coded_pandas)\n",
    "\n",
    "features = range(pca.n_components_)\n",
    "plt.bar(features, pca.explained_variance_ratio_, color='black')\n",
    "plt.xlabel('PCA features')\n",
    "plt.ylabel('variance %')\n",
    "plt.xticks(features)\n",
    "\n",
    "PCA_components = pd.DataFrame(principalComponents)"
   ]
  },
  {
   "cell_type": "code",
   "execution_count": 55,
   "metadata": {},
   "outputs": [
    {
     "data": {
      "image/png": "[encoded data removed]",
      "text/plain": [
       "<Figure size 432x288 with 1 Axes>"
      ]
     },
     "metadata": {
      "needs_background": "light"
     },
     "output_type": "display_data"
    }
   ],
   "source": [
    "from sklearn.cluster import KMeans\n",
    "wcss = list()\n",
    "for i in range(1, 11):\n",
    "    kmeans = KMeans(n_clusters = i, init = 'k-means++',max_iter=250,random_state=50)\n",
    "    kmeans.fit(PCA_components.iloc[:,:3])\n",
    "    wcss.append(kmeans.inertia_)\n",
    "plt.plot(range(1, 11), wcss)\n",
    "plt.title('The Elbow Method')\n",
    "plt.xlabel('Number of clusters')\n",
    "plt.ylabel('WCSS')\n",
    "plt.xticks(range(1,11))\n",
    "plt.show()"
   ]
  },
  {
   "cell_type": "code",
   "execution_count": 56,
   "metadata": {},
   "outputs": [],
   "source": [
    "from sklearn.decomposition import PCA\n",
    "pca = PCA(.95)\n",
    "X = pca.fit_transform(X_coded_pandas)"
   ]
  },
  {
   "cell_type": "code",
   "execution_count": 57,
   "metadata": {},
   "outputs": [
    {
     "data": {
      "image/png": "[encoded data removed]",
      "text/plain": [
       "<Figure size 432x288 with 1 Axes>"
      ]
     },
     "metadata": {
      "needs_background": "light"
     },
     "output_type": "display_data"
    }
   ],
   "source": [
    "from sklearn.cluster import KMeans\n",
    "wcss = list()\n",
    "for i in range(1, 11):\n",
    "    kmeans = KMeans(n_clusters = i, init = 'k-means++',max_iter=250,random_state=50)\n",
    "    kmeans.fit(X)\n",
    "    wcss.append(kmeans.inertia_)\n",
    "plt.plot(range(1, 11), wcss)\n",
    "plt.title('The Elbow Method')\n",
    "plt.xlabel('Number of clusters')\n",
    "plt.ylabel('WCSS')\n",
    "plt.xticks(range(1,11))\n",
    "plt.show()"
   ]
  },
  {
   "cell_type": "code",
   "execution_count": 62,
   "metadata": {},
   "outputs": [],
   "source": [
    "kmeans = KMeans(n_clusters = 4, init = 'k-means++',random_state=50)"
   ]
  },
  {
   "cell_type": "code",
   "execution_count": 63,
   "metadata": {},
   "outputs": [
    {
     "data": {
      "image/png": "[encoded data removed]",
      "text/plain": [
       "<Figure size 432x288 with 1 Axes>"
      ]
     },
     "metadata": {
      "needs_background": "light"
     },
     "output_type": "display_data"
    }
   ],
   "source": [
    "y_kmeans = kmeans.fit_predict(PCA_components.iloc[:,:3])\n",
    "plt.scatter(X[y_kmeans == 0, 0], X[y_kmeans == 0, 1], s = 80, c = 'red', label = 'Cluster 1')\n",
    "plt.scatter(X[y_kmeans == 1, 0], X[y_kmeans == 1, 1], s = 80, c = 'blue', label = 'Cluster 2')\n",
    "plt.scatter(X[y_kmeans == 2, 0], X[y_kmeans == 2, 1], s = 80, c = 'green', label = 'Cluster 3')\n",
    "plt.scatter(X[y_kmeans == 3, 0], X[y_kmeans == 3, 1], s = 80, c = 'cyan', label = 'Cluster 4')\n",
    "#plt.scatter(X[y_kmeans == 4, 0], X[y_kmeans == 4, 1], s = 80, c = 'magenta', label = 'Cluster 5')\n",
    "#plt.scatter(X[y_kmeans == 5, 0], X[y_kmeans == 5, 1], s = 80, c = 'grey', label = 'Cluster 6')\n",
    "plt.scatter(kmeans.cluster_centers_[:, 0], kmeans.cluster_centers_[:, 1], s = 200, c = 'yellow', label = 'Centroids')\n",
    "plt.legend(loc='right',bbox_to_anchor=(1.9,.5))\n",
    "plt.show()"
   ]
  },
  {
   "cell_type": "code",
   "execution_count": 64,
   "metadata": {},
   "outputs": [
    {
     "data": {
      "text/html": [
       "<div>\n",
       "<style scoped>\n",
       "    .dataframe tbody tr th:only-of-type {\n",
       "        vertical-align: middle;\n",
       "    }\n",
       "\n",
       "    .dataframe tbody tr th {\n",
       "        vertical-align: top;\n",
       "    }\n",
       "\n",
       "    .dataframe thead th {\n",
       "        text-align: right;\n",
       "    }\n",
       "</style>\n",
       "<table border=\"1\" class=\"dataframe\">\n",
       "  <thead>\n",
       "    <tr style=\"text-align: right;\">\n",
       "      <th></th>\n",
       "      <th>Name</th>\n",
       "      <th>Year</th>\n",
       "      <th>Hosteller</th>\n",
       "      <th>North-South</th>\n",
       "      <th>Vegetarian</th>\n",
       "      <th>Dine-in</th>\n",
       "      <th>Dinner</th>\n",
       "      <th>Cusinies</th>\n",
       "      <th>Chinese</th>\n",
       "      <th>Italain</th>\n",
       "      <th>North</th>\n",
       "      <th>South</th>\n",
       "      <th>Continental</th>\n",
       "      <th>Maggie</th>\n",
       "      <th>Juices</th>\n",
       "      <th>Spicy-Sweet</th>\n",
       "      <th>All-time</th>\n",
       "    </tr>\n",
       "  </thead>\n",
       "  <tbody>\n",
       "    <tr>\n",
       "      <th>0</th>\n",
       "      <td>Sushant khatri</td>\n",
       "      <td>I</td>\n",
       "      <td>Hosteller</td>\n",
       "      <td>North Indian</td>\n",
       "      <td>No</td>\n",
       "      <td>Take-away</td>\n",
       "      <td>Being Punjabi</td>\n",
       "      <td>Street Indian</td>\n",
       "      <td>Blanc Cafe</td>\n",
       "      <td>Cheesy Juicy Burgers</td>\n",
       "      <td>Baski Chef</td>\n",
       "      <td>Amana cafe</td>\n",
       "      <td>Golocandas Restaurant</td>\n",
       "      <td>Chai kings</td>\n",
       "      <td>Hot Chips</td>\n",
       "      <td>Spicy</td>\n",
       "      <td>Google</td>\n",
       "    </tr>\n",
       "    <tr>\n",
       "      <th>1</th>\n",
       "      <td>Muskaan Dhadwal</td>\n",
       "      <td>III</td>\n",
       "      <td>Day Scholar</td>\n",
       "      <td>Both</td>\n",
       "      <td>No</td>\n",
       "      <td>Take-away</td>\n",
       "      <td>Faruuzi</td>\n",
       "      <td>Continental</td>\n",
       "      <td>Tibetian cafe</td>\n",
       "      <td>Bliss cafe</td>\n",
       "      <td>Faruuzi</td>\n",
       "      <td>Shri Balajee Bhavan</td>\n",
       "      <td>Baski Chef</td>\n",
       "      <td>Blueberry</td>\n",
       "      <td>Lassi shop</td>\n",
       "      <td>Sweet</td>\n",
       "      <td>Baski Chef</td>\n",
       "    </tr>\n",
       "  </tbody>\n",
       "</table>\n",
       "</div>"
      ],
      "text/plain": [
       "              Name Year    Hosteller   North-South Vegetarian    Dine-in  \\\n",
       "0   Sushant khatri    I    Hosteller  North Indian         No  Take-away   \n",
       "1  Muskaan Dhadwal  III  Day Scholar          Both         No  Take-away   \n",
       "\n",
       "          Dinner       Cusinies        Chinese               Italain  \\\n",
       "0  Being Punjabi  Street Indian     Blanc Cafe  Cheesy Juicy Burgers   \n",
       "1        Faruuzi    Continental  Tibetian cafe            Bliss cafe   \n",
       "\n",
       "        North                South            Continental      Maggie  \\\n",
       "0  Baski Chef           Amana cafe  Golocandas Restaurant  Chai kings   \n",
       "1     Faruuzi  Shri Balajee Bhavan             Baski Chef   Blueberry   \n",
       "\n",
       "       Juices Spicy-Sweet    All-time  \n",
       "0   Hot Chips       Spicy      Google  \n",
       "1  Lassi shop       Sweet  Baski Chef  "
      ]
     },
     "execution_count": 64,
     "metadata": {},
     "output_type": "execute_result"
    }
   ],
   "source": [
    "udf.head(2)"
   ]
  },
  {
   "cell_type": "code",
   "execution_count": 70,
   "metadata": {},
   "outputs": [
    {
     "ename": "TypeError",
     "evalue": "__init__() got an unexpected keyword argument 'X'",
     "output_type": "error",
     "traceback": [
      "\u001b[0;31m---------------------------------------------------------------------------\u001b[0m",
      "\u001b[0;31mTypeError\u001b[0m                                 Traceback (most recent call last)",
      "\u001b[0;32m<ipython-input-70-b9d534c45d33>\u001b[0m in \u001b[0;36m<module>\u001b[0;34m\u001b[0m\n\u001b[1;32m      1\u001b[0m \u001b[0;32mimport\u001b[0m \u001b[0mprince\u001b[0m\u001b[0;34m\u001b[0m\u001b[0;34m\u001b[0m\u001b[0m\n\u001b[0;32m----> 2\u001b[0;31m \u001b[0mmca\u001b[0m \u001b[0;34m=\u001b[0m \u001b[0mprince\u001b[0m\u001b[0;34m.\u001b[0m\u001b[0mMCA\u001b[0m\u001b[0;34m(\u001b[0m\u001b[0;36m0.9\u001b[0m\u001b[0;34m,\u001b[0m\u001b[0mX\u001b[0m\u001b[0;34m=\u001b[0m\u001b[0mudf\u001b[0m\u001b[0;34m.\u001b[0m\u001b[0miloc\u001b[0m\u001b[0;34m[\u001b[0m\u001b[0;34m:\u001b[0m\u001b[0;34m,\u001b[0m\u001b[0;36m1\u001b[0m\u001b[0;34m:\u001b[0m\u001b[0;34m]\u001b[0m\u001b[0;34m)\u001b[0m\u001b[0;34m\u001b[0m\u001b[0;34m\u001b[0m\u001b[0m\n\u001b[0m\u001b[1;32m      3\u001b[0m \u001b[0;34m\u001b[0m\u001b[0m\n\u001b[1;32m      4\u001b[0m \u001b[0mX_mc\u001b[0m \u001b[0;34m=\u001b[0m \u001b[0mmca\u001b[0m\u001b[0;34m.\u001b[0m\u001b[0mfit\u001b[0m\u001b[0;34m(\u001b[0m\u001b[0mudf\u001b[0m\u001b[0;34m.\u001b[0m\u001b[0miloc\u001b[0m\u001b[0;34m[\u001b[0m\u001b[0;34m:\u001b[0m\u001b[0;34m,\u001b[0m\u001b[0;36m1\u001b[0m\u001b[0;34m:\u001b[0m\u001b[0;34m]\u001b[0m\u001b[0;34m)\u001b[0m\u001b[0;34m\u001b[0m\u001b[0;34m\u001b[0m\u001b[0m\n",
      "\u001b[0;31mTypeError\u001b[0m: __init__() got an unexpected keyword argument 'X'"
     ]
    }
   ],
   "source": [
    "import prince\n",
    "mca = prince.MCA(0.9,X=udf.iloc[:,1:])\n",
    "\n",
    "X_mc = mca.fit(udf.iloc[:,1:])"
   ]
  },
  {
   "cell_type": "code",
   "execution_count": null,
   "metadata": {},
   "outputs": [],
   "source": []
  }
 ],
 "metadata": {
  "kernelspec": {
   "display_name": "Python 3",
   "language": "python",
   "name": "python3"
  },
  "language_info": {
   "codemirror_mode": {
    "name": "ipython",
    "version": 3
   },
   "file_extension": ".py",
   "mimetype": "text/x-python",
   "name": "python",
   "nbconvert_exporter": "python",
   "pygments_lexer": "ipython3",
   "version": "3.6.9"
  }
 },
 "nbformat": 4,
 "nbformat_minor": 4
}
