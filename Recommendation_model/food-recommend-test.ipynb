{
 "cells": [
  {
   "cell_type": "code",
   "execution_count": 1,
   "metadata": {},
   "outputs": [],
   "source": [
    "import numpy as np\n",
    "import pandas as pd\n",
    "import matplotlib.pyplot as plt\n",
    "import seaborn as sns"
   ]
  },
  {
   "cell_type": "code",
   "execution_count": 75,
   "metadata": {},
   "outputs": [],
   "source": [
    "udf = pd.read_csv(\"Food Survey_75Responses.tsv\",sep = '\\t' ,lineterminator='\\r')"
   ]
  },
  {
   "cell_type": "code",
   "execution_count": 76,
   "metadata": {},
   "outputs": [
    {
     "data": {
      "text/plain": [
       "(75, 29)"
      ]
     },
     "execution_count": 76,
     "metadata": {},
     "output_type": "execute_result"
    }
   ],
   "source": [
    "udf.shape"
   ]
  },
  {
   "cell_type": "code",
   "execution_count": 143,
   "metadata": {
    "scrolled": true
   },
   "outputs": [
    {
     "data": {
      "text/html": [
       "<div>\n",
       "<style scoped>\n",
       "    .dataframe tbody tr th:only-of-type {\n",
       "        vertical-align: middle;\n",
       "    }\n",
       "\n",
       "    .dataframe tbody tr th {\n",
       "        vertical-align: top;\n",
       "    }\n",
       "\n",
       "    .dataframe thead th {\n",
       "        text-align: right;\n",
       "    }\n",
       "</style>\n",
       "<table border=\"1\" class=\"dataframe\">\n",
       "  <thead>\n",
       "    <tr style=\"text-align: right;\">\n",
       "      <th></th>\n",
       "      <th>Name</th>\n",
       "      <th>Year</th>\n",
       "      <th>Hosteller</th>\n",
       "      <th>North-South</th>\n",
       "      <th>Vegetarin</th>\n",
       "      <th>Dine-in</th>\n",
       "      <th>Breakfast</th>\n",
       "      <th>Lunch</th>\n",
       "      <th>Dinner</th>\n",
       "      <th>Cusinies</th>\n",
       "      <th>...</th>\n",
       "      <th>Juices</th>\n",
       "      <th>Rolls</th>\n",
       "      <th>Samosa/Puff</th>\n",
       "      <th>Panipuri</th>\n",
       "      <th>Shawarma</th>\n",
       "      <th>Sugar rush</th>\n",
       "      <th>Spicy-Sweet</th>\n",
       "      <th>Spicy</th>\n",
       "      <th>Sweet</th>\n",
       "      <th>All-time</th>\n",
       "    </tr>\n",
       "  </thead>\n",
       "  <tbody>\n",
       "    <tr>\n",
       "      <td>0</td>\n",
       "      <td>Sushant khatri</td>\n",
       "      <td>I</td>\n",
       "      <td>Hosteller</td>\n",
       "      <td>North Indian</td>\n",
       "      <td>No</td>\n",
       "      <td>Take-away</td>\n",
       "      <td>Butty</td>\n",
       "      <td>Chickwalk</td>\n",
       "      <td>Being Punjabi</td>\n",
       "      <td>Street Indian</td>\n",
       "      <td>...</td>\n",
       "      <td>Hot Chips</td>\n",
       "      <td>Nawab choice restraunt</td>\n",
       "      <td>Evergreen</td>\n",
       "      <td>Delhi 6</td>\n",
       "      <td>Classic Chettinadu restraunt</td>\n",
       "      <td>Bliss cafe</td>\n",
       "      <td>Spicy</td>\n",
       "      <td>Classic Chettinadu restraunt</td>\n",
       "      <td>Baski Chef</td>\n",
       "      <td>Google</td>\n",
       "    </tr>\n",
       "    <tr>\n",
       "      <td>1</td>\n",
       "      <td>Muskaan Dhadwal</td>\n",
       "      <td>III</td>\n",
       "      <td>Day Scholar</td>\n",
       "      <td>Both</td>\n",
       "      <td>No</td>\n",
       "      <td>Take-away</td>\n",
       "      <td>Butty</td>\n",
       "      <td>Jet cafe</td>\n",
       "      <td>Faruuzi</td>\n",
       "      <td>Continental</td>\n",
       "      <td>...</td>\n",
       "      <td>Lassi shop</td>\n",
       "      <td>Google</td>\n",
       "      <td>Bombay tea stall</td>\n",
       "      <td>Spartans</td>\n",
       "      <td>Google</td>\n",
       "      <td>Chocoman</td>\n",
       "      <td>Sweet</td>\n",
       "      <td>Butty</td>\n",
       "      <td>Roll over</td>\n",
       "      <td>Baski Chef</td>\n",
       "    </tr>\n",
       "    <tr>\n",
       "      <td>2</td>\n",
       "      <td>Ishika</td>\n",
       "      <td>I</td>\n",
       "      <td>Hosteller</td>\n",
       "      <td>North Indian</td>\n",
       "      <td>No</td>\n",
       "      <td>Take-away</td>\n",
       "      <td>Blueberry</td>\n",
       "      <td>Faruuzi</td>\n",
       "      <td>Google+</td>\n",
       "      <td>Chinese</td>\n",
       "      <td>...</td>\n",
       "      <td>Sharjah juices</td>\n",
       "      <td>Google+</td>\n",
       "      <td>Google+</td>\n",
       "      <td>Abode cafe</td>\n",
       "      <td>Chop house</td>\n",
       "      <td>Rock N Roll</td>\n",
       "      <td>Spicy</td>\n",
       "      <td>Google+</td>\n",
       "      <td>Amul</td>\n",
       "      <td>Google+</td>\n",
       "    </tr>\n",
       "    <tr>\n",
       "      <td>3</td>\n",
       "      <td>Darshan Patel</td>\n",
       "      <td>I</td>\n",
       "      <td>Day Scholar</td>\n",
       "      <td>Both</td>\n",
       "      <td>Yes</td>\n",
       "      <td>Dine-in</td>\n",
       "      <td>Cafe H</td>\n",
       "      <td>Faruuzi</td>\n",
       "      <td>Subway</td>\n",
       "      <td>North Indian</td>\n",
       "      <td>...</td>\n",
       "      <td>Sharjah juices</td>\n",
       "      <td>Butty</td>\n",
       "      <td>Srm canteeen</td>\n",
       "      <td>Uzo Sandwiches</td>\n",
       "      <td>Fresh and honest</td>\n",
       "      <td>Twinkle Dipz</td>\n",
       "      <td>Spicy</td>\n",
       "      <td>Cafe H</td>\n",
       "      <td>Beach house</td>\n",
       "      <td>Cafe H</td>\n",
       "    </tr>\n",
       "  </tbody>\n",
       "</table>\n",
       "<p>4 rows × 27 columns</p>\n",
       "</div>"
      ],
      "text/plain": [
       "              Name Year    Hosteller   North-South Vegetarin    Dine-in  \\\n",
       "0   Sushant khatri    I    Hosteller  North Indian        No  Take-away   \n",
       "1  Muskaan Dhadwal  III  Day Scholar          Both        No  Take-away   \n",
       "2           Ishika    I    Hosteller  North Indian        No  Take-away   \n",
       "3    Darshan Patel    I  Day Scholar          Both       Yes    Dine-in   \n",
       "\n",
       "   Breakfast      Lunch         Dinner       Cusinies  ...          Juices  \\\n",
       "0      Butty  Chickwalk  Being Punjabi  Street Indian  ...       Hot Chips   \n",
       "1      Butty   Jet cafe        Faruuzi    Continental  ...      Lassi shop   \n",
       "2  Blueberry    Faruuzi        Google+        Chinese  ...  Sharjah juices   \n",
       "3     Cafe H    Faruuzi         Subway   North Indian  ...  Sharjah juices   \n",
       "\n",
       "                    Rolls       Samosa/Puff        Panipuri  \\\n",
       "0  Nawab choice restraunt         Evergreen         Delhi 6   \n",
       "1                  Google  Bombay tea stall        Spartans   \n",
       "2                 Google+           Google+      Abode cafe   \n",
       "3                   Butty      Srm canteeen  Uzo Sandwiches   \n",
       "\n",
       "                       Shawarma    Sugar rush Spicy-Sweet  \\\n",
       "0  Classic Chettinadu restraunt    Bliss cafe       Spicy   \n",
       "1                        Google      Chocoman       Sweet   \n",
       "2                    Chop house   Rock N Roll       Spicy   \n",
       "3              Fresh and honest  Twinkle Dipz       Spicy   \n",
       "\n",
       "                          Spicy        Sweet    All-time  \n",
       "0  Classic Chettinadu restraunt   Baski Chef      Google  \n",
       "1                         Butty    Roll over  Baski Chef  \n",
       "2                       Google+         Amul     Google+  \n",
       "3                        Cafe H  Beach house      Cafe H  \n",
       "\n",
       "[4 rows x 27 columns]"
      ]
     },
     "execution_count": 143,
     "metadata": {},
     "output_type": "execute_result"
    }
   ],
   "source": [
    "udf.head(4)"
   ]
  },
  {
   "cell_type": "code",
   "execution_count": 78,
   "metadata": {},
   "outputs": [],
   "source": [
    "drop_col = [\"Timestamp\"]\n",
    "udf.drop(drop_col,axis=1,inplace=True)"
   ]
  },
  {
   "cell_type": "code",
   "execution_count": 79,
   "metadata": {},
   "outputs": [
    {
     "data": {
      "text/plain": [
       "(75, 28)"
      ]
     },
     "execution_count": 79,
     "metadata": {},
     "output_type": "execute_result"
    }
   ],
   "source": [
    "udf.shape"
   ]
  },
  {
   "cell_type": "code",
   "execution_count": 80,
   "metadata": {},
   "outputs": [],
   "source": [
    "optional = udf[\"Food sanctum that doesn't vibes with you\"]\n",
    "drop_col= [\"Food sanctum that doesn't vibes with you\"]\n",
    "udf.drop(drop_col,axis=1,inplace=True)"
   ]
  },
  {
   "cell_type": "code",
   "execution_count": 81,
   "metadata": {},
   "outputs": [
    {
     "name": "stdout",
     "output_type": "stream",
     "text": [
      "<class 'pandas.core.frame.DataFrame'>\n",
      "RangeIndex: 75 entries, 0 to 74\n",
      "Data columns (total 27 columns):\n",
      "What's your name?                                  75 non-null object\n",
      "Year?                                              75 non-null object\n",
      "Select one?                                        75 non-null object\n",
      "Prefer, North Indian or South Indian?              75 non-null object\n",
      "Vegetarian?                                        75 non-null object\n",
      "What would you rather prefer?                      75 non-null object\n",
      "Preferred place for Breakfast? (except mess :p)    75 non-null object\n",
      "Preferred place for Lunch ?(except mess :P)        75 non-null object\n",
      "Preferred place for Dinner ?(except mess :P)       75 non-null object\n",
      "Select One:                                        74 non-null object\n",
      "Preferred Chinese Place                            75 non-null object\n",
      "Preferred Italian Place                            75 non-null object\n",
      "Preferred North Indian Place                       75 non-null object\n",
      "Preferred South Indian Place                       75 non-null object\n",
      "Preferred Continental Place                        75 non-null object\n",
      "Tea/Coffee                                         75 non-null object\n",
      "Maggie                                             75 non-null object\n",
      "Juices/Milkshakes/Lime                             75 non-null object\n",
      "Rolls                                              75 non-null object\n",
      "Samosa/Puff                                        75 non-null object\n",
      "Pani Puri/Chat                                     75 non-null object\n",
      "Shawarma                                           64 non-null object\n",
      "Sugar Rush                                         75 non-null object\n",
      "Preferred choice                                   75 non-null object\n",
      "Spicy 🌶️                                           75 non-null object\n",
      "Sweet 🍬                                            75 non-null object\n",
      "Name the food Sanctum                              75 non-null object\n",
      "dtypes: object(27)\n",
      "memory usage: 15.9+ KB\n"
     ]
    }
   ],
   "source": [
    "udf.info()"
   ]
  },
  {
   "cell_type": "code",
   "execution_count": 82,
   "metadata": {},
   "outputs": [],
   "source": [
    "cols = [\"Name\",\"Year\",\"Hosteller\",\"North-South\",\"Vegetarin\",\"Dine-in\",\"Breakfast\",\"Lunch\",\"Dinner\",\"Cusinies\",\"Chinese\",\"Italain\",\n",
    "       \"North\",\"South\",\"Continental\",\"Tea/Coffee\",\"Maggie\",\"Juices\",\"Rolls\",\"Samosa/Puff\",\"Panipuri\",\"Shawarma\",\"Sugar rush\",\n",
    "       \"Spicy-Sweet\",\"Spicy\",\"Sweet\",\"All-time\"]\n",
    "\n",
    "udf.columns = cols"
   ]
  },
  {
   "cell_type": "code",
   "execution_count": 83,
   "metadata": {},
   "outputs": [
    {
     "data": {
      "text/plain": [
       "Index(['Name', 'Year', 'Hosteller', 'North-South', 'Vegetarin', 'Dine-in',\n",
       "       'Breakfast', 'Lunch', 'Dinner', 'Cusinies', 'Chinese', 'Italain',\n",
       "       'North', 'South', 'Continental', 'Tea/Coffee', 'Maggie', 'Juices',\n",
       "       'Rolls', 'Samosa/Puff', 'Panipuri', 'Shawarma', 'Sugar rush',\n",
       "       'Spicy-Sweet', 'Spicy', 'Sweet', 'All-time'],\n",
       "      dtype='object')"
      ]
     },
     "execution_count": 83,
     "metadata": {},
     "output_type": "execute_result"
    }
   ],
   "source": [
    "udf.columns"
   ]
  },
  {
   "cell_type": "code",
   "execution_count": 84,
   "metadata": {},
   "outputs": [
    {
     "data": {
      "text/html": [
       "<div>\n",
       "<style scoped>\n",
       "    .dataframe tbody tr th:only-of-type {\n",
       "        vertical-align: middle;\n",
       "    }\n",
       "\n",
       "    .dataframe tbody tr th {\n",
       "        vertical-align: top;\n",
       "    }\n",
       "\n",
       "    .dataframe thead th {\n",
       "        text-align: right;\n",
       "    }\n",
       "</style>\n",
       "<table border=\"1\" class=\"dataframe\">\n",
       "  <thead>\n",
       "    <tr style=\"text-align: right;\">\n",
       "      <th></th>\n",
       "      <th>Name</th>\n",
       "      <th>Year</th>\n",
       "      <th>Hosteller</th>\n",
       "      <th>North-South</th>\n",
       "      <th>Vegetarin</th>\n",
       "      <th>Dine-in</th>\n",
       "      <th>Breakfast</th>\n",
       "      <th>Lunch</th>\n",
       "      <th>Dinner</th>\n",
       "      <th>Cusinies</th>\n",
       "      <th>...</th>\n",
       "      <th>Juices</th>\n",
       "      <th>Rolls</th>\n",
       "      <th>Samosa/Puff</th>\n",
       "      <th>Panipuri</th>\n",
       "      <th>Shawarma</th>\n",
       "      <th>Sugar rush</th>\n",
       "      <th>Spicy-Sweet</th>\n",
       "      <th>Spicy</th>\n",
       "      <th>Sweet</th>\n",
       "      <th>All-time</th>\n",
       "    </tr>\n",
       "  </thead>\n",
       "  <tbody>\n",
       "    <tr>\n",
       "      <td>0</td>\n",
       "      <td>Sushant khatri</td>\n",
       "      <td>I</td>\n",
       "      <td>Hosteller</td>\n",
       "      <td>North Indian</td>\n",
       "      <td>No</td>\n",
       "      <td>Take-away</td>\n",
       "      <td>Butty</td>\n",
       "      <td>Chickwalk</td>\n",
       "      <td>Being Punjabi</td>\n",
       "      <td>Street Indian</td>\n",
       "      <td>...</td>\n",
       "      <td>Hot Chips</td>\n",
       "      <td>Nawab choice restraunt</td>\n",
       "      <td>Evergreen</td>\n",
       "      <td>Delhi 6</td>\n",
       "      <td>Classic Chettinadu restraunt</td>\n",
       "      <td>Bliss cafe</td>\n",
       "      <td>Spicy</td>\n",
       "      <td>Classic Chettinadu restraunt</td>\n",
       "      <td>Baski Chef</td>\n",
       "      <td>Google</td>\n",
       "    </tr>\n",
       "    <tr>\n",
       "      <td>1</td>\n",
       "      <td>Muskaan Dhadwal</td>\n",
       "      <td>III</td>\n",
       "      <td>Day Scholar</td>\n",
       "      <td>Both</td>\n",
       "      <td>No</td>\n",
       "      <td>Take-away</td>\n",
       "      <td>Butty</td>\n",
       "      <td>Jet cafe</td>\n",
       "      <td>Faruuzi</td>\n",
       "      <td>Continental</td>\n",
       "      <td>...</td>\n",
       "      <td>Lassi shop</td>\n",
       "      <td>Google</td>\n",
       "      <td>Bombay tea stall</td>\n",
       "      <td>Spartans</td>\n",
       "      <td>Google</td>\n",
       "      <td>Chocoman</td>\n",
       "      <td>Sweet</td>\n",
       "      <td>Butty</td>\n",
       "      <td>Roll over</td>\n",
       "      <td>Baski Chef</td>\n",
       "    </tr>\n",
       "    <tr>\n",
       "      <td>2</td>\n",
       "      <td>Ishika</td>\n",
       "      <td>I</td>\n",
       "      <td>Hosteller</td>\n",
       "      <td>North Indian</td>\n",
       "      <td>No</td>\n",
       "      <td>Take-away</td>\n",
       "      <td>Blueberry</td>\n",
       "      <td>Faruuzi</td>\n",
       "      <td>Google+</td>\n",
       "      <td>Chinese</td>\n",
       "      <td>...</td>\n",
       "      <td>Sharjah juices</td>\n",
       "      <td>Google+</td>\n",
       "      <td>Google+</td>\n",
       "      <td>Abode cafe</td>\n",
       "      <td>Chop house</td>\n",
       "      <td>Rock N Roll</td>\n",
       "      <td>Spicy</td>\n",
       "      <td>Google+</td>\n",
       "      <td>Amul</td>\n",
       "      <td>Google+</td>\n",
       "    </tr>\n",
       "    <tr>\n",
       "      <td>3</td>\n",
       "      <td>Darshan Patel</td>\n",
       "      <td>I</td>\n",
       "      <td>Day Scholar</td>\n",
       "      <td>Both</td>\n",
       "      <td>Yes</td>\n",
       "      <td>Dine-in</td>\n",
       "      <td>Cafe H</td>\n",
       "      <td>Faruuzi</td>\n",
       "      <td>Subway</td>\n",
       "      <td>North Indian</td>\n",
       "      <td>...</td>\n",
       "      <td>Sharjah juices</td>\n",
       "      <td>Butty</td>\n",
       "      <td>Srm canteeen</td>\n",
       "      <td>Uzo Sandwiches</td>\n",
       "      <td>Fresh and honest</td>\n",
       "      <td>Twinkle Dipz</td>\n",
       "      <td>Spicy</td>\n",
       "      <td>Cafe H</td>\n",
       "      <td>Beach house</td>\n",
       "      <td>Cafe H</td>\n",
       "    </tr>\n",
       "    <tr>\n",
       "      <td>4</td>\n",
       "      <td>Soumya Das</td>\n",
       "      <td>I</td>\n",
       "      <td>Hosteller</td>\n",
       "      <td>Both</td>\n",
       "      <td>No</td>\n",
       "      <td>Dine-in</td>\n",
       "      <td>Butty</td>\n",
       "      <td>Classic Chettinadu restaurant</td>\n",
       "      <td>Google</td>\n",
       "      <td>North Indian</td>\n",
       "      <td>...</td>\n",
       "      <td>Sharjah juices</td>\n",
       "      <td>Butty</td>\n",
       "      <td>Chai kings</td>\n",
       "      <td>Butty</td>\n",
       "      <td>Butty</td>\n",
       "      <td>Blanc Cafe</td>\n",
       "      <td>Spicy</td>\n",
       "      <td>Google</td>\n",
       "      <td>Amul</td>\n",
       "      <td>Google</td>\n",
       "    </tr>\n",
       "  </tbody>\n",
       "</table>\n",
       "<p>5 rows × 27 columns</p>\n",
       "</div>"
      ],
      "text/plain": [
       "              Name Year    Hosteller   North-South Vegetarin    Dine-in  \\\n",
       "0   Sushant khatri    I    Hosteller  North Indian        No  Take-away   \n",
       "1  Muskaan Dhadwal  III  Day Scholar          Both        No  Take-away   \n",
       "2           Ishika    I    Hosteller  North Indian        No  Take-away   \n",
       "3    Darshan Patel    I  Day Scholar          Both       Yes    Dine-in   \n",
       "4       Soumya Das    I    Hosteller          Both        No    Dine-in   \n",
       "\n",
       "   Breakfast                          Lunch         Dinner       Cusinies  \\\n",
       "0      Butty                      Chickwalk  Being Punjabi  Street Indian   \n",
       "1      Butty                       Jet cafe        Faruuzi    Continental   \n",
       "2  Blueberry                        Faruuzi        Google+        Chinese   \n",
       "3     Cafe H                        Faruuzi         Subway   North Indian   \n",
       "4      Butty  Classic Chettinadu restaurant         Google   North Indian   \n",
       "\n",
       "   ...          Juices                   Rolls       Samosa/Puff  \\\n",
       "0  ...       Hot Chips  Nawab choice restraunt         Evergreen   \n",
       "1  ...      Lassi shop                  Google  Bombay tea stall   \n",
       "2  ...  Sharjah juices                 Google+           Google+   \n",
       "3  ...  Sharjah juices                   Butty      Srm canteeen   \n",
       "4  ...  Sharjah juices                   Butty        Chai kings   \n",
       "\n",
       "         Panipuri                      Shawarma    Sugar rush Spicy-Sweet  \\\n",
       "0         Delhi 6  Classic Chettinadu restraunt    Bliss cafe       Spicy   \n",
       "1        Spartans                        Google      Chocoman       Sweet   \n",
       "2      Abode cafe                    Chop house   Rock N Roll       Spicy   \n",
       "3  Uzo Sandwiches              Fresh and honest  Twinkle Dipz       Spicy   \n",
       "4           Butty                         Butty    Blanc Cafe       Spicy   \n",
       "\n",
       "                          Spicy        Sweet    All-time  \n",
       "0  Classic Chettinadu restraunt   Baski Chef      Google  \n",
       "1                         Butty    Roll over  Baski Chef  \n",
       "2                       Google+         Amul     Google+  \n",
       "3                        Cafe H  Beach house      Cafe H  \n",
       "4                        Google         Amul      Google  \n",
       "\n",
       "[5 rows x 27 columns]"
      ]
     },
     "execution_count": 84,
     "metadata": {},
     "output_type": "execute_result"
    }
   ],
   "source": [
    "udf.head()"
   ]
  },
  {
   "cell_type": "code",
   "execution_count": 85,
   "metadata": {
    "scrolled": false
   },
   "outputs": [
    {
     "data": {
      "image/png": "[encoded data removed]",
      "text/plain": [
       "<Figure size 432x288 with 1 Axes>"
      ]
     },
     "metadata": {
      "needs_background": "light"
     },
     "output_type": "display_data"
    }
   ],
   "source": [
    "top_10_restro = dict(udf['All-time'].value_counts().sort_values(ascending = False).head(10))\n",
    "udf[\"All-time\"].value_counts().head(10).plot(kind='bar')\n",
    "plt.title(\"Top-10 restrurants\")\n",
    "plt.show()"
   ]
  },
  {
   "cell_type": "code",
   "execution_count": 86,
   "metadata": {},
   "outputs": [
    {
     "data": {
      "text/plain": [
       "{'Being Punjabi': 7,\n",
       " 'Google': 6,\n",
       " 'Taj restaurant': 5,\n",
       " 'Bombay Fries': 4,\n",
       " 'Blueberry': 3,\n",
       " 'Google+': 3,\n",
       " 'A2B': 3,\n",
       " 'Cheesy Juicy Burgers': 3,\n",
       " 'Cafe H': 3,\n",
       " \"Nawab's dine\": 3}"
      ]
     },
     "execution_count": 86,
     "metadata": {},
     "output_type": "execute_result"
    }
   ],
   "source": [
    "#Acc to all the users the top 10 restuarnts are:\n",
    "top_10_restro"
   ]
  },
  {
   "cell_type": "code",
   "execution_count": 87,
   "metadata": {},
   "outputs": [
    {
     "data": {
      "image/png": "[encoded data removed]",
      "text/plain": [
       "<Figure size 432x288 with 1 Axes>"
      ]
     },
     "metadata": {},
     "output_type": "display_data"
    },
    {
     "data": {
      "text/plain": [
       "{'A2B': 7,\n",
       " 'Shri Balajee Bhavan': 5,\n",
       " 'Butty': 5,\n",
       " 'Bombay tea stall': 5,\n",
       " 'Amul': 5,\n",
       " 'Evergreen': 4,\n",
       " 'Subway': 4,\n",
       " 'Google': 3,\n",
       " 'Chai kings': 3,\n",
       " 'Pari juice': 2}"
      ]
     },
     "execution_count": 87,
     "metadata": {},
     "output_type": "execute_result"
    }
   ],
   "source": [
    "top_breakfast = dict(udf['Breakfast'].value_counts().sort_values(ascending = False).head(10))\n",
    "udf[\"Breakfast\"].value_counts().head(10).plot(kind='pie',autopct='%.1f%%')\n",
    "plt.title(\"Top-10 restrurants for BreakFast\")\n",
    "plt.legend(loc='right',bbox_to_anchor=(1.9,.5))\n",
    "plt.show()\n",
    "top_breakfast"
   ]
  },
  {
   "cell_type": "code",
   "execution_count": 88,
   "metadata": {},
   "outputs": [
    {
     "data": {
      "image/png": "[encoded data removed]",
      "text/plain": [
       "<Figure size 432x288 with 1 Axes>"
      ]
     },
     "metadata": {},
     "output_type": "display_data"
    }
   ],
   "source": [
    "udf[\"Maggie\"].value_counts().head(10).plot(kind='pie',autopct='%.1f%%')\n",
    "plt.title(\"Top-10 restrurants to go for MAGGIE\")\n",
    "plt.legend(loc='right',bbox_to_anchor=(1.9,.5))\n",
    "plt.show()"
   ]
  },
  {
   "cell_type": "code",
   "execution_count": 189,
   "metadata": {},
   "outputs": [
    {
     "data": {
      "image/png": "[encoded data removed]",
      "text/plain": [
       "<Figure size 432x288 with 1 Axes>"
      ]
     },
     "metadata": {
      "needs_background": "light"
     },
     "output_type": "display_data"
    }
   ],
   "source": [
    "udf[\"Chinese\"].value_counts().head(10).plot(kind='bar',color='red')\n",
    "plt.title(\"Top-10 restrurants to crave your chinese food hunger\")\n",
    "plt.legend()\n",
    "plt.show()"
   ]
  },
  {
   "cell_type": "code",
   "execution_count": 90,
   "metadata": {},
   "outputs": [
    {
     "data": {
      "image/png": "[encoded data removed]",
      "text/plain": [
       "<Figure size 432x288 with 1 Axes>"
      ]
     },
     "metadata": {},
     "output_type": "display_data"
    }
   ],
   "source": [
    "udf[\"Spicy\"].value_counts().head(10).plot(kind='pie',autopct='%.1f%%')\n",
    "plt.title(\"Top-10 restrurants to bring spice to your food\")\n",
    "plt.legend(loc='right',bbox_to_anchor=(1.9,.5))\n",
    "plt.show()"
   ]
  },
  {
   "cell_type": "code",
   "execution_count": 180,
   "metadata": {},
   "outputs": [
    {
     "data": {
      "image/png": "[encoded data removed]",
      "text/plain": [
       "<Figure size 432x288 with 1 Axes>"
      ]
     },
     "metadata": {
      "needs_background": "light"
     },
     "output_type": "display_data"
    }
   ],
   "source": [
    "n = udf.North.value_counts().sort_values(ascending=False).head(3)\n",
    "s = udf.South.value_counts().sort_values(ascending=False).head(3)\n",
    "prac = n.add(s, fill_value=0).sort_values(ascending=False)\n",
    "prac.columns = ['Value']\n",
    "prac.plot(kind='bar')\n",
    "plt.title(\"Which resturant is best for both, North and South Indian\")\n",
    "#plt.legend()\n",
    "plt.show()"
   ]
  },
  {
   "cell_type": "code",
   "execution_count": 188,
   "metadata": {},
   "outputs": [
    {
     "data": {
      "image/png": "[encoded data removed]",
      "text/plain": [
       "<Figure size 432x288 with 1 Axes>"
      ]
     },
     "metadata": {
      "needs_background": "light"
     },
     "output_type": "display_data"
    }
   ],
   "source": [
    "ch = udf['Chinese'].value_counts().sort_values(ascending=False).head(4)\n",
    "con = udf.Continental.value_counts().sort_values(ascending=False).head(4)\n",
    "it = udf.Italain.value_counts().sort_values(ascending=False).head(4)\n",
    "n = udf.North.value_counts().sort_values(ascending=False).head(4)\n",
    "s = udf.South.value_counts().sort_values(ascending=False).head(4)\n",
    "#All the cusinies\n",
    "prac = it.add(con.add(n.add(s.add(ch,fill_value=0),fill_value=0),fill_value=0),fill_value=0).sort_values(ascending=False).head(5)\n",
    "prac.columns = ['Value']\n",
    "prac.plot(kind='bar',color='cyan')\n",
    "plt.title(\"Which resturant is best for whatever the cusinie,maybe\")\n",
    "#plt.legend()\n",
    "plt.show()"
   ]
  },
  {
   "cell_type": "code",
   "execution_count": 91,
   "metadata": {},
   "outputs": [],
   "source": [
    "personal_pref_feature = ['Name','Year','Hosteller','Vegetarin','Dine-in','Cusinies','Spicy-Sweet','North-South']\n",
    "user_pref_data = udf.loc[:,personal_pref_feature]"
   ]
  },
  {
   "cell_type": "code",
   "execution_count": 92,
   "metadata": {},
   "outputs": [
    {
     "data": {
      "text/html": [
       "<div>\n",
       "<style scoped>\n",
       "    .dataframe tbody tr th:only-of-type {\n",
       "        vertical-align: middle;\n",
       "    }\n",
       "\n",
       "    .dataframe tbody tr th {\n",
       "        vertical-align: top;\n",
       "    }\n",
       "\n",
       "    .dataframe thead th {\n",
       "        text-align: right;\n",
       "    }\n",
       "</style>\n",
       "<table border=\"1\" class=\"dataframe\">\n",
       "  <thead>\n",
       "    <tr style=\"text-align: right;\">\n",
       "      <th></th>\n",
       "      <th>Name</th>\n",
       "      <th>Year</th>\n",
       "      <th>Hosteller</th>\n",
       "      <th>Vegetarin</th>\n",
       "      <th>Dine-in</th>\n",
       "      <th>Cusinies</th>\n",
       "      <th>Spicy-Sweet</th>\n",
       "      <th>North-South</th>\n",
       "    </tr>\n",
       "  </thead>\n",
       "  <tbody>\n",
       "    <tr>\n",
       "      <td>0</td>\n",
       "      <td>Sushant khatri</td>\n",
       "      <td>I</td>\n",
       "      <td>Hosteller</td>\n",
       "      <td>No</td>\n",
       "      <td>Take-away</td>\n",
       "      <td>Street Indian</td>\n",
       "      <td>Spicy</td>\n",
       "      <td>North Indian</td>\n",
       "    </tr>\n",
       "    <tr>\n",
       "      <td>1</td>\n",
       "      <td>Muskaan Dhadwal</td>\n",
       "      <td>III</td>\n",
       "      <td>Day Scholar</td>\n",
       "      <td>No</td>\n",
       "      <td>Take-away</td>\n",
       "      <td>Continental</td>\n",
       "      <td>Sweet</td>\n",
       "      <td>Both</td>\n",
       "    </tr>\n",
       "    <tr>\n",
       "      <td>2</td>\n",
       "      <td>Ishika</td>\n",
       "      <td>I</td>\n",
       "      <td>Hosteller</td>\n",
       "      <td>No</td>\n",
       "      <td>Take-away</td>\n",
       "      <td>Chinese</td>\n",
       "      <td>Spicy</td>\n",
       "      <td>North Indian</td>\n",
       "    </tr>\n",
       "    <tr>\n",
       "      <td>3</td>\n",
       "      <td>Darshan Patel</td>\n",
       "      <td>I</td>\n",
       "      <td>Day Scholar</td>\n",
       "      <td>Yes</td>\n",
       "      <td>Dine-in</td>\n",
       "      <td>North Indian</td>\n",
       "      <td>Spicy</td>\n",
       "      <td>Both</td>\n",
       "    </tr>\n",
       "    <tr>\n",
       "      <td>4</td>\n",
       "      <td>Soumya Das</td>\n",
       "      <td>I</td>\n",
       "      <td>Hosteller</td>\n",
       "      <td>No</td>\n",
       "      <td>Dine-in</td>\n",
       "      <td>North Indian</td>\n",
       "      <td>Spicy</td>\n",
       "      <td>Both</td>\n",
       "    </tr>\n",
       "  </tbody>\n",
       "</table>\n",
       "</div>"
      ],
      "text/plain": [
       "              Name Year    Hosteller Vegetarin    Dine-in       Cusinies  \\\n",
       "0   Sushant khatri    I    Hosteller        No  Take-away  Street Indian   \n",
       "1  Muskaan Dhadwal  III  Day Scholar        No  Take-away    Continental   \n",
       "2           Ishika    I    Hosteller        No  Take-away        Chinese   \n",
       "3    Darshan Patel    I  Day Scholar       Yes    Dine-in   North Indian   \n",
       "4       Soumya Das    I    Hosteller        No    Dine-in   North Indian   \n",
       "\n",
       "  Spicy-Sweet   North-South  \n",
       "0       Spicy  North Indian  \n",
       "1       Sweet          Both  \n",
       "2       Spicy  North Indian  \n",
       "3       Spicy          Both  \n",
       "4       Spicy          Both  "
      ]
     },
     "execution_count": 92,
     "metadata": {},
     "output_type": "execute_result"
    }
   ],
   "source": [
    "user_pref_data.head()"
   ]
  },
  {
   "cell_type": "code",
   "execution_count": 93,
   "metadata": {},
   "outputs": [
    {
     "data": {
      "text/plain": [
       "Name           0\n",
       "Year           0\n",
       "Hosteller      0\n",
       "Vegetarin      0\n",
       "Dine-in        0\n",
       "Cusinies       1\n",
       "Spicy-Sweet    0\n",
       "North-South    0\n",
       "dtype: int64"
      ]
     },
     "execution_count": 93,
     "metadata": {},
     "output_type": "execute_result"
    }
   ],
   "source": [
    "user_pref_data.isnull().sum()"
   ]
  },
  {
   "cell_type": "code",
   "execution_count": 94,
   "metadata": {},
   "outputs": [
    {
     "data": {
      "text/html": [
       "<div>\n",
       "<style scoped>\n",
       "    .dataframe tbody tr th:only-of-type {\n",
       "        vertical-align: middle;\n",
       "    }\n",
       "\n",
       "    .dataframe tbody tr th {\n",
       "        vertical-align: top;\n",
       "    }\n",
       "\n",
       "    .dataframe thead th {\n",
       "        text-align: right;\n",
       "    }\n",
       "</style>\n",
       "<table border=\"1\" class=\"dataframe\">\n",
       "  <thead>\n",
       "    <tr style=\"text-align: right;\">\n",
       "      <th></th>\n",
       "      <th>Name</th>\n",
       "      <th>Year</th>\n",
       "      <th>Hosteller</th>\n",
       "      <th>Vegetarin</th>\n",
       "      <th>Dine-in</th>\n",
       "      <th>Cusinies</th>\n",
       "      <th>Spicy-Sweet</th>\n",
       "      <th>North-South</th>\n",
       "    </tr>\n",
       "  </thead>\n",
       "  <tbody>\n",
       "    <tr>\n",
       "      <td>70</td>\n",
       "      <td>Yuvarajan</td>\n",
       "      <td>I</td>\n",
       "      <td>Day Scholar</td>\n",
       "      <td>No</td>\n",
       "      <td>Take-away</td>\n",
       "      <td>NaN</td>\n",
       "      <td>Spicy</td>\n",
       "      <td>Both</td>\n",
       "    </tr>\n",
       "  </tbody>\n",
       "</table>\n",
       "</div>"
      ],
      "text/plain": [
       "          Name Year    Hosteller Vegetarin    Dine-in Cusinies Spicy-Sweet  \\\n",
       "70  Yuvarajan     I  Day Scholar        No  Take-away      NaN       Spicy   \n",
       "\n",
       "   North-South  \n",
       "70        Both  "
      ]
     },
     "execution_count": 94,
     "metadata": {},
     "output_type": "execute_result"
    }
   ],
   "source": [
    "user_pref_data.loc[user_pref_data.Cusinies.isnull() == True,:]"
   ]
  },
  {
   "cell_type": "code",
   "execution_count": 95,
   "metadata": {},
   "outputs": [
    {
     "name": "stdout",
     "output_type": "stream",
     "text": [
      "<class 'pandas.core.frame.DataFrame'>\n",
      "RangeIndex: 75 entries, 0 to 74\n",
      "Data columns (total 27 columns):\n",
      "Name           75 non-null object\n",
      "Year           75 non-null object\n",
      "Hosteller      75 non-null object\n",
      "North-South    75 non-null object\n",
      "Vegetarin      75 non-null object\n",
      "Dine-in        75 non-null object\n",
      "Breakfast      75 non-null object\n",
      "Lunch          75 non-null object\n",
      "Dinner         75 non-null object\n",
      "Cusinies       74 non-null object\n",
      "Chinese        75 non-null object\n",
      "Italain        75 non-null object\n",
      "North          75 non-null object\n",
      "South          75 non-null object\n",
      "Continental    75 non-null object\n",
      "Tea/Coffee     75 non-null object\n",
      "Maggie         75 non-null object\n",
      "Juices         75 non-null object\n",
      "Rolls          75 non-null object\n",
      "Samosa/Puff    75 non-null object\n",
      "Panipuri       75 non-null object\n",
      "Shawarma       64 non-null object\n",
      "Sugar rush     75 non-null object\n",
      "Spicy-Sweet    75 non-null object\n",
      "Spicy          75 non-null object\n",
      "Sweet          75 non-null object\n",
      "All-time       75 non-null object\n",
      "dtypes: object(27)\n",
      "memory usage: 15.9+ KB\n"
     ]
    }
   ],
   "source": [
    "udf.info()"
   ]
  },
  {
   "cell_type": "code",
   "execution_count": 96,
   "metadata": {},
   "outputs": [],
   "source": [
    "f = open('Food_Names.txt','r')\n",
    "lines = f.readlines()\n",
    "f.close()"
   ]
  },
  {
   "cell_type": "code",
   "execution_count": 97,
   "metadata": {},
   "outputs": [
    {
     "data": {
      "text/plain": [
       "80"
      ]
     },
     "execution_count": 97,
     "metadata": {},
     "output_type": "execute_result"
    }
   ],
   "source": [
    "resturants_name = list()\n",
    "for line in lines:\n",
    "    resturants_name.append(line.strip('\\n'))\n",
    "len(resturants_name)"
   ]
  },
  {
   "cell_type": "code",
   "execution_count": 98,
   "metadata": {},
   "outputs": [
    {
     "data": {
      "text/plain": [
       "{'A2B': 0,\n",
       " 'Abode cafe': 1,\n",
       " 'Ak biryani mahal': 2,\n",
       " 'Al Sham': 3,\n",
       " 'Amana cafe': 4,\n",
       " 'Amul': 5,\n",
       " 'Andhra Mess': 6,\n",
       " 'Baski Chef': 7,\n",
       " 'Beach house': 8,\n",
       " 'Being Punjabi': 9,\n",
       " 'Bihari Dhaba': 10,\n",
       " 'Biryani house': 11,\n",
       " 'Biryani mahal': 12,\n",
       " 'Blanc Cafe': 13,\n",
       " 'Bliss cafe': 14,\n",
       " 'Blueberry': 15,\n",
       " 'Bombay Fries': 16,\n",
       " 'Bombay tea stall': 17,\n",
       " 'Brain chai house': 18,\n",
       " 'Butty': 19,\n",
       " 'Cafe H': 20,\n",
       " 'Chai kings': 21,\n",
       " 'Cheesy Juicy Burgers': 22,\n",
       " 'Chickwalk': 23,\n",
       " 'Chocoman': 24,\n",
       " 'Chop house': 25,\n",
       " 'Classic Chettinadu restraunt': 26,\n",
       " 'Classic biryani': 27,\n",
       " 'Date Palm': 28,\n",
       " 'Delhi 6': 29,\n",
       " 'Dhai foods': 30,\n",
       " 'Dinesh food house': 31,\n",
       " 'Duck Donald': 32,\n",
       " 'Evergreen': 33,\n",
       " 'Evergreen Chinese': 34,\n",
       " 'Faruuzi': 35,\n",
       " 'Fb Cake House': 36,\n",
       " 'Food king': 37,\n",
       " 'Fresh and honest': 38,\n",
       " 'Golocandas Restaurant': 39,\n",
       " 'Google': 40,\n",
       " 'Google paratha': 41,\n",
       " 'Google+': 42,\n",
       " 'Hi lite juice shop': 43,\n",
       " 'Hot Chips': 44,\n",
       " 'Hyderabadi Irani Chai': 45,\n",
       " 'Jet cafe': 46,\n",
       " 'Jikarthanda': 47,\n",
       " 'King foods': 48,\n",
       " 'Lassi shop': 49,\n",
       " 'Lava cakes': 50,\n",
       " 'Lemon Tree cafe': 51,\n",
       " 'Loiee': 52,\n",
       " 'Longlive pizza': 53,\n",
       " 'Madras curry': 54,\n",
       " 'Melan restraunt': 55,\n",
       " 'Mumbai vada pav': 56,\n",
       " 'My cafe valley': 57,\n",
       " 'Nawab choice restraunt': 58,\n",
       " \"Nawab's times\": 59,\n",
       " 'Nescafe': 60,\n",
       " 'Pari juice': 61,\n",
       " 'Princess collections': 62,\n",
       " 'Queens court': 63,\n",
       " 'Rock N Roll': 64,\n",
       " 'Roll over': 65,\n",
       " 'Sharjah juices': 66,\n",
       " 'Shri Balajee Bhavan': 67,\n",
       " 'Signal Tod Cafe': 68,\n",
       " 'Smart choice': 69,\n",
       " 'Soda hub': 70,\n",
       " 'Spartans': 71,\n",
       " 'Srm canteeen': 72,\n",
       " 'Subway': 73,\n",
       " 'Sunny days': 74,\n",
       " 'Taj restraunt': 75,\n",
       " 'Thickshake Factory': 76,\n",
       " 'Tibetian cafe': 77,\n",
       " 'Twinkle Dipz': 78,\n",
       " 'Uzo Sandwiches': 79}"
      ]
     },
     "execution_count": 98,
     "metadata": {},
     "output_type": "execute_result"
    }
   ],
   "source": [
    "restro_mapping = dict()\n",
    "k = 0\n",
    "for i in resturants_name:\n",
    "    restro_mapping[str(i)] = k\n",
    "    k += 1\n",
    "restro_mapping"
   ]
  },
  {
   "cell_type": "code",
   "execution_count": 99,
   "metadata": {},
   "outputs": [
    {
     "data": {
      "text/plain": [
       "(75, 27)"
      ]
     },
     "execution_count": 99,
     "metadata": {},
     "output_type": "execute_result"
    }
   ],
   "source": [
    "udf_1 = pd.DataFrame()\n",
    "new_cols = [\"Breakfast\",\"Lunch\",\"Dinner\",\"Chinese\",\"Italain\",\n",
    "       \"North\",\"South\",\"Continental\",\"Tea/Coffee\",\"Maggie\",\"Juices\",\"Rolls\",\"Samosa/Puff\",\"Panipuri\",\"Shawarma\",\"Sugar rush\",\n",
    "       \"Spicy\",\"Sweet\",\"All-time\"]\n",
    "to_be_cols = [\"Name\",\"Year\",\"Hosteller\",\"North-South\",\"Vegetarin\",\"Dine-in\",\"Cusinies\",\"Spicy-Sweet\"]\n",
    "for col in to_be_cols:\n",
    "    udf_1[col] = udf[col]\n",
    "for col in new_cols:\n",
    "    udf_1[col] = udf[col].map(restro_mapping)\n",
    "udf.shape"
   ]
  },
  {
   "cell_type": "code",
   "execution_count": 100,
   "metadata": {},
   "outputs": [
    {
     "data": {
      "text/plain": [
       "Shawarma      15\n",
       "Dinner        14\n",
       "Spicy         12\n",
       "Lunch         12\n",
       "Sweet         11\n",
       "Chinese       11\n",
       "All-time      10\n",
       "North         10\n",
       "Sugar rush    10\n",
       "South          9\n",
       "Maggie         5\n",
       "Italain        3\n",
       "Breakfast      2\n",
       "Cusinies       1\n",
       "Juices         1\n",
       "dtype: int64"
      ]
     },
     "execution_count": 100,
     "metadata": {},
     "output_type": "execute_result"
    }
   ],
   "source": [
    "udf_1.isnull().sum().sort_values(ascending=False).head(15)"
   ]
  },
  {
   "cell_type": "code",
   "execution_count": 101,
   "metadata": {},
   "outputs": [
    {
     "data": {
      "text/plain": [
       "Index(['Name', 'Year', 'Hosteller', 'North-South', 'Vegetarin', 'Dine-in',\n",
       "       'Cusinies', 'Spicy-Sweet', 'Breakfast', 'Lunch', 'Dinner', 'Chinese',\n",
       "       'Italain', 'North', 'South', 'Continental', 'Tea/Coffee', 'Maggie',\n",
       "       'Juices', 'Rolls', 'Samosa/Puff', 'Panipuri', 'Shawarma', 'Sugar rush',\n",
       "       'Spicy', 'Sweet', 'All-time'],\n",
       "      dtype='object')"
      ]
     },
     "execution_count": 101,
     "metadata": {},
     "output_type": "execute_result"
    }
   ],
   "source": [
    "udf_1.columns"
   ]
  },
  {
   "cell_type": "code",
   "execution_count": 102,
   "metadata": {},
   "outputs": [],
   "source": [
    "udf_1['Shawarma'] = udf_1['Shawarma'].replace(np.nan,-1)"
   ]
  },
  {
   "cell_type": "code",
   "execution_count": 103,
   "metadata": {},
   "outputs": [
    {
     "data": {
      "text/plain": [
       "0"
      ]
     },
     "execution_count": 103,
     "metadata": {},
     "output_type": "execute_result"
    }
   ],
   "source": [
    "udf_1.Shawarma.isnull().sum()"
   ]
  },
  {
   "cell_type": "code",
   "execution_count": 104,
   "metadata": {},
   "outputs": [
    {
     "data": {
      "text/plain": [
       "Dinner        14\n",
       "Spicy         12\n",
       "Lunch         12\n",
       "Sweet         11\n",
       "Chinese       11\n",
       "All-time      10\n",
       "North         10\n",
       "Sugar rush    10\n",
       "South          9\n",
       "Maggie         5\n",
       "Italain        3\n",
       "Breakfast      2\n",
       "Cusinies       1\n",
       "Juices         1\n",
       "Rolls          1\n",
       "dtype: int64"
      ]
     },
     "execution_count": 104,
     "metadata": {},
     "output_type": "execute_result"
    }
   ],
   "source": [
    "udf_1.isnull().sum().sort_values(ascending=False).head(15)"
   ]
  },
  {
   "cell_type": "code",
   "execution_count": 105,
   "metadata": {},
   "outputs": [],
   "source": [
    "udf_1.fillna(udf_1.median(),inplace=True)"
   ]
  },
  {
   "cell_type": "code",
   "execution_count": 106,
   "metadata": {},
   "outputs": [
    {
     "data": {
      "text/plain": [
       "Cusinies     1\n",
       "All-time     0\n",
       "Italain      0\n",
       "Year         0\n",
       "Hosteller    0\n",
       "dtype: int64"
      ]
     },
     "execution_count": 106,
     "metadata": {},
     "output_type": "execute_result"
    }
   ],
   "source": [
    "udf_1.isnull().sum().sort_values(ascending=False).head(5)"
   ]
  },
  {
   "cell_type": "code",
   "execution_count": 107,
   "metadata": {},
   "outputs": [],
   "source": [
    "udf_1.Cusinies.fillna(method='ffill',inplace=True)"
   ]
  },
  {
   "cell_type": "code",
   "execution_count": 108,
   "metadata": {},
   "outputs": [
    {
     "data": {
      "text/plain": [
       "All-time    0\n",
       "Italain     0\n",
       "dtype: int64"
      ]
     },
     "execution_count": 108,
     "metadata": {},
     "output_type": "execute_result"
    }
   ],
   "source": [
    "udf_1.isnull().sum().sort_values(ascending=False).head(2)"
   ]
  },
  {
   "cell_type": "code",
   "execution_count": 109,
   "metadata": {},
   "outputs": [
    {
     "data": {
      "text/plain": [
       "(75, 27)"
      ]
     },
     "execution_count": 109,
     "metadata": {},
     "output_type": "execute_result"
    }
   ],
   "source": [
    "udf_1.shape"
   ]
  },
  {
   "cell_type": "code",
   "execution_count": 110,
   "metadata": {},
   "outputs": [],
   "source": [
    "from sklearn.preprocessing import StandardScaler\n",
    "scaler = StandardScaler()"
   ]
  },
  {
   "cell_type": "code",
   "execution_count": 111,
   "metadata": {},
   "outputs": [
    {
     "data": {
      "text/plain": [
       "Index(['Name', 'Year', 'Hosteller', 'North-South', 'Vegetarin', 'Dine-in',\n",
       "       'Cusinies', 'Spicy-Sweet', 'Breakfast', 'Lunch', 'Dinner', 'Chinese',\n",
       "       'Italain', 'North', 'South', 'Continental', 'Tea/Coffee', 'Maggie',\n",
       "       'Juices', 'Rolls', 'Samosa/Puff', 'Panipuri', 'Shawarma', 'Sugar rush',\n",
       "       'Spicy', 'Sweet', 'All-time'],\n",
       "      dtype='object')"
      ]
     },
     "execution_count": 111,
     "metadata": {},
     "output_type": "execute_result"
    }
   ],
   "source": [
    "udf_1.columns"
   ]
  },
  {
   "cell_type": "code",
   "execution_count": 112,
   "metadata": {},
   "outputs": [],
   "source": [
    "udf_1.iloc[:,8:] = scaler.fit_transform(udf_1.iloc[:,8:])"
   ]
  },
  {
   "cell_type": "code",
   "execution_count": 113,
   "metadata": {},
   "outputs": [
    {
     "data": {
      "text/html": [
       "<div>\n",
       "<style scoped>\n",
       "    .dataframe tbody tr th:only-of-type {\n",
       "        vertical-align: middle;\n",
       "    }\n",
       "\n",
       "    .dataframe tbody tr th {\n",
       "        vertical-align: top;\n",
       "    }\n",
       "\n",
       "    .dataframe thead th {\n",
       "        text-align: right;\n",
       "    }\n",
       "</style>\n",
       "<table border=\"1\" class=\"dataframe\">\n",
       "  <thead>\n",
       "    <tr style=\"text-align: right;\">\n",
       "      <th></th>\n",
       "      <th>Name</th>\n",
       "      <th>Year</th>\n",
       "      <th>Hosteller</th>\n",
       "      <th>North-South</th>\n",
       "      <th>Vegetarin</th>\n",
       "      <th>Dine-in</th>\n",
       "      <th>Cusinies</th>\n",
       "      <th>Spicy-Sweet</th>\n",
       "      <th>Breakfast</th>\n",
       "      <th>Lunch</th>\n",
       "      <th>...</th>\n",
       "      <th>Maggie</th>\n",
       "      <th>Juices</th>\n",
       "      <th>Rolls</th>\n",
       "      <th>Samosa/Puff</th>\n",
       "      <th>Panipuri</th>\n",
       "      <th>Shawarma</th>\n",
       "      <th>Sugar rush</th>\n",
       "      <th>Spicy</th>\n",
       "      <th>Sweet</th>\n",
       "      <th>All-time</th>\n",
       "    </tr>\n",
       "  </thead>\n",
       "  <tbody>\n",
       "    <tr>\n",
       "      <td>0</td>\n",
       "      <td>Sushant khatri</td>\n",
       "      <td>I</td>\n",
       "      <td>Hosteller</td>\n",
       "      <td>North Indian</td>\n",
       "      <td>No</td>\n",
       "      <td>Take-away</td>\n",
       "      <td>Street Indian</td>\n",
       "      <td>Spicy</td>\n",
       "      <td>-0.540481</td>\n",
       "      <td>-0.246561</td>\n",
       "      <td>...</td>\n",
       "      <td>-0.207501</td>\n",
       "      <td>0.069627</td>\n",
       "      <td>1.466326</td>\n",
       "      <td>0.033945</td>\n",
       "      <td>-0.407689</td>\n",
       "      <td>0.285002</td>\n",
       "      <td>-1.065725</td>\n",
       "      <td>0.189211</td>\n",
       "      <td>-0.921897</td>\n",
       "      <td>0.695385</td>\n",
       "    </tr>\n",
       "    <tr>\n",
       "      <td>1</td>\n",
       "      <td>Muskaan Dhadwal</td>\n",
       "      <td>III</td>\n",
       "      <td>Day Scholar</td>\n",
       "      <td>Both</td>\n",
       "      <td>No</td>\n",
       "      <td>Take-away</td>\n",
       "      <td>Continental</td>\n",
       "      <td>Sweet</td>\n",
       "      <td>-0.540481</td>\n",
       "      <td>0.915511</td>\n",
       "      <td>...</td>\n",
       "      <td>-0.537449</td>\n",
       "      <td>0.296673</td>\n",
       "      <td>0.536091</td>\n",
       "      <td>-0.592736</td>\n",
       "      <td>1.255810</td>\n",
       "      <td>1.007834</td>\n",
       "      <td>-0.615165</td>\n",
       "      <td>-0.165559</td>\n",
       "      <td>1.465868</td>\n",
       "      <td>-0.913098</td>\n",
       "    </tr>\n",
       "  </tbody>\n",
       "</table>\n",
       "<p>2 rows × 27 columns</p>\n",
       "</div>"
      ],
      "text/plain": [
       "              Name Year    Hosteller   North-South Vegetarin    Dine-in  \\\n",
       "0   Sushant khatri    I    Hosteller  North Indian        No  Take-away   \n",
       "1  Muskaan Dhadwal  III  Day Scholar          Both        No  Take-away   \n",
       "\n",
       "        Cusinies Spicy-Sweet  Breakfast     Lunch  ...    Maggie    Juices  \\\n",
       "0  Street Indian       Spicy  -0.540481 -0.246561  ... -0.207501  0.069627   \n",
       "1    Continental       Sweet  -0.540481  0.915511  ... -0.537449  0.296673   \n",
       "\n",
       "      Rolls  Samosa/Puff  Panipuri  Shawarma  Sugar rush     Spicy     Sweet  \\\n",
       "0  1.466326     0.033945 -0.407689  0.285002   -1.065725  0.189211 -0.921897   \n",
       "1  0.536091    -0.592736  1.255810  1.007834   -0.615165 -0.165559  1.465868   \n",
       "\n",
       "   All-time  \n",
       "0  0.695385  \n",
       "1 -0.913098  \n",
       "\n",
       "[2 rows x 27 columns]"
      ]
     },
     "execution_count": 113,
     "metadata": {},
     "output_type": "execute_result"
    }
   ],
   "source": [
    "udf_1.head(2)"
   ]
  },
  {
   "cell_type": "code",
   "execution_count": 114,
   "metadata": {},
   "outputs": [],
   "source": [
    "udf_1 = pd.get_dummies(udf_1, columns=['Vegetarin'])"
   ]
  },
  {
   "cell_type": "code",
   "execution_count": 115,
   "metadata": {},
   "outputs": [
    {
     "data": {
      "text/html": [
       "<div>\n",
       "<style scoped>\n",
       "    .dataframe tbody tr th:only-of-type {\n",
       "        vertical-align: middle;\n",
       "    }\n",
       "\n",
       "    .dataframe tbody tr th {\n",
       "        vertical-align: top;\n",
       "    }\n",
       "\n",
       "    .dataframe thead th {\n",
       "        text-align: right;\n",
       "    }\n",
       "</style>\n",
       "<table border=\"1\" class=\"dataframe\">\n",
       "  <thead>\n",
       "    <tr style=\"text-align: right;\">\n",
       "      <th></th>\n",
       "      <th>Name</th>\n",
       "      <th>Year</th>\n",
       "      <th>Hosteller</th>\n",
       "      <th>North-South</th>\n",
       "      <th>Dine-in</th>\n",
       "      <th>Cusinies</th>\n",
       "      <th>Spicy-Sweet</th>\n",
       "      <th>Breakfast</th>\n",
       "      <th>Lunch</th>\n",
       "      <th>Dinner</th>\n",
       "      <th>...</th>\n",
       "      <th>Rolls</th>\n",
       "      <th>Samosa/Puff</th>\n",
       "      <th>Panipuri</th>\n",
       "      <th>Shawarma</th>\n",
       "      <th>Sugar rush</th>\n",
       "      <th>Spicy</th>\n",
       "      <th>Sweet</th>\n",
       "      <th>All-time</th>\n",
       "      <th>Vegetarin_No</th>\n",
       "      <th>Vegetarin_Yes</th>\n",
       "    </tr>\n",
       "  </thead>\n",
       "  <tbody>\n",
       "    <tr>\n",
       "      <td>0</td>\n",
       "      <td>Sushant khatri</td>\n",
       "      <td>I</td>\n",
       "      <td>Hosteller</td>\n",
       "      <td>North Indian</td>\n",
       "      <td>Take-away</td>\n",
       "      <td>Street Indian</td>\n",
       "      <td>Spicy</td>\n",
       "      <td>-0.540481</td>\n",
       "      <td>-0.246561</td>\n",
       "      <td>-1.217953</td>\n",
       "      <td>...</td>\n",
       "      <td>1.466326</td>\n",
       "      <td>0.033945</td>\n",
       "      <td>-0.407689</td>\n",
       "      <td>0.285002</td>\n",
       "      <td>-1.065725</td>\n",
       "      <td>0.189211</td>\n",
       "      <td>-0.921897</td>\n",
       "      <td>0.695385</td>\n",
       "      <td>1</td>\n",
       "      <td>0</td>\n",
       "    </tr>\n",
       "    <tr>\n",
       "      <td>1</td>\n",
       "      <td>Muskaan Dhadwal</td>\n",
       "      <td>III</td>\n",
       "      <td>Day Scholar</td>\n",
       "      <td>Both</td>\n",
       "      <td>Take-away</td>\n",
       "      <td>Continental</td>\n",
       "      <td>Sweet</td>\n",
       "      <td>-0.540481</td>\n",
       "      <td>0.915511</td>\n",
       "      <td>0.021613</td>\n",
       "      <td>...</td>\n",
       "      <td>0.536091</td>\n",
       "      <td>-0.592736</td>\n",
       "      <td>1.255810</td>\n",
       "      <td>1.007834</td>\n",
       "      <td>-0.615165</td>\n",
       "      <td>-0.165559</td>\n",
       "      <td>1.465868</td>\n",
       "      <td>-0.913098</td>\n",
       "      <td>1</td>\n",
       "      <td>0</td>\n",
       "    </tr>\n",
       "  </tbody>\n",
       "</table>\n",
       "<p>2 rows × 28 columns</p>\n",
       "</div>"
      ],
      "text/plain": [
       "              Name Year    Hosteller   North-South    Dine-in       Cusinies  \\\n",
       "0   Sushant khatri    I    Hosteller  North Indian  Take-away  Street Indian   \n",
       "1  Muskaan Dhadwal  III  Day Scholar          Both  Take-away    Continental   \n",
       "\n",
       "  Spicy-Sweet  Breakfast     Lunch    Dinner  ...     Rolls  Samosa/Puff  \\\n",
       "0       Spicy  -0.540481 -0.246561 -1.217953  ...  1.466326     0.033945   \n",
       "1       Sweet  -0.540481  0.915511  0.021613  ...  0.536091    -0.592736   \n",
       "\n",
       "   Panipuri  Shawarma  Sugar rush     Spicy     Sweet  All-time  Vegetarin_No  \\\n",
       "0 -0.407689  0.285002   -1.065725  0.189211 -0.921897  0.695385             1   \n",
       "1  1.255810  1.007834   -0.615165 -0.165559  1.465868 -0.913098             1   \n",
       "\n",
       "   Vegetarin_Yes  \n",
       "0              0  \n",
       "1              0  \n",
       "\n",
       "[2 rows x 28 columns]"
      ]
     },
     "execution_count": 115,
     "metadata": {},
     "output_type": "execute_result"
    }
   ],
   "source": [
    "udf_1.head(2)"
   ]
  },
  {
   "cell_type": "code",
   "execution_count": 116,
   "metadata": {},
   "outputs": [],
   "source": [
    "udf_1 = pd.get_dummies(udf_1, columns=['Hosteller'])"
   ]
  },
  {
   "cell_type": "code",
   "execution_count": 117,
   "metadata": {},
   "outputs": [],
   "source": [
    "udf_1 = pd.get_dummies(udf_1, columns=['Dine-in'])"
   ]
  },
  {
   "cell_type": "code",
   "execution_count": 118,
   "metadata": {},
   "outputs": [],
   "source": [
    "udf_1 = pd.get_dummies(udf_1, columns=['Cusinies'])"
   ]
  },
  {
   "cell_type": "code",
   "execution_count": 119,
   "metadata": {},
   "outputs": [],
   "source": [
    "udf_1 = pd.get_dummies(udf_1, columns=['Spicy-Sweet'])"
   ]
  },
  {
   "cell_type": "code",
   "execution_count": 120,
   "metadata": {},
   "outputs": [],
   "source": [
    "udf_1 = pd.get_dummies(udf_1, columns=['North-South'])"
   ]
  },
  {
   "cell_type": "code",
   "execution_count": 121,
   "metadata": {},
   "outputs": [
    {
     "data": {
      "text/html": [
       "<div>\n",
       "<style scoped>\n",
       "    .dataframe tbody tr th:only-of-type {\n",
       "        vertical-align: middle;\n",
       "    }\n",
       "\n",
       "    .dataframe tbody tr th {\n",
       "        vertical-align: top;\n",
       "    }\n",
       "\n",
       "    .dataframe thead th {\n",
       "        text-align: right;\n",
       "    }\n",
       "</style>\n",
       "<table border=\"1\" class=\"dataframe\">\n",
       "  <thead>\n",
       "    <tr style=\"text-align: right;\">\n",
       "      <th></th>\n",
       "      <th>Name</th>\n",
       "      <th>Year</th>\n",
       "      <th>Breakfast</th>\n",
       "      <th>Lunch</th>\n",
       "      <th>Dinner</th>\n",
       "      <th>Chinese</th>\n",
       "      <th>Italain</th>\n",
       "      <th>North</th>\n",
       "      <th>South</th>\n",
       "      <th>Continental</th>\n",
       "      <th>...</th>\n",
       "      <th>Cusinies_Italian</th>\n",
       "      <th>Cusinies_North Indian</th>\n",
       "      <th>Cusinies_South Indian</th>\n",
       "      <th>Cusinies_Street Food(Indian)</th>\n",
       "      <th>Cusinies_Street Indian</th>\n",
       "      <th>Spicy-Sweet_Spicy</th>\n",
       "      <th>Spicy-Sweet_Sweet</th>\n",
       "      <th>North-South_Both</th>\n",
       "      <th>North-South_North Indian</th>\n",
       "      <th>North-South_South Indian</th>\n",
       "    </tr>\n",
       "  </thead>\n",
       "  <tbody>\n",
       "    <tr>\n",
       "      <td>0</td>\n",
       "      <td>Sushant khatri</td>\n",
       "      <td>I</td>\n",
       "      <td>-0.540481</td>\n",
       "      <td>-0.246561</td>\n",
       "      <td>-1.217953</td>\n",
       "      <td>-1.007682</td>\n",
       "      <td>-0.55012</td>\n",
       "      <td>-0.730933</td>\n",
       "      <td>-0.784373</td>\n",
       "      <td>0.834131</td>\n",
       "      <td>...</td>\n",
       "      <td>0</td>\n",
       "      <td>0</td>\n",
       "      <td>0</td>\n",
       "      <td>0</td>\n",
       "      <td>1</td>\n",
       "      <td>1</td>\n",
       "      <td>0</td>\n",
       "      <td>0</td>\n",
       "      <td>1</td>\n",
       "      <td>0</td>\n",
       "    </tr>\n",
       "  </tbody>\n",
       "</table>\n",
       "<p>1 rows × 39 columns</p>\n",
       "</div>"
      ],
      "text/plain": [
       "             Name Year  Breakfast     Lunch    Dinner   Chinese  Italain  \\\n",
       "0  Sushant khatri    I  -0.540481 -0.246561 -1.217953 -1.007682 -0.55012   \n",
       "\n",
       "      North     South  Continental  ...  Cusinies_Italian  \\\n",
       "0 -0.730933 -0.784373     0.834131  ...                 0   \n",
       "\n",
       "   Cusinies_North Indian  Cusinies_South Indian  Cusinies_Street Food(Indian)  \\\n",
       "0                      0                      0                             0   \n",
       "\n",
       "   Cusinies_Street Indian  Spicy-Sweet_Spicy  Spicy-Sweet_Sweet  \\\n",
       "0                       1                  1                  0   \n",
       "\n",
       "   North-South_Both  North-South_North Indian  North-South_South Indian  \n",
       "0                 0                         1                         0  \n",
       "\n",
       "[1 rows x 39 columns]"
      ]
     },
     "execution_count": 121,
     "metadata": {},
     "output_type": "execute_result"
    }
   ],
   "source": [
    "udf_1.head(1)"
   ]
  },
  {
   "cell_type": "code",
   "execution_count": 122,
   "metadata": {},
   "outputs": [],
   "source": [
    "code = {'I':1,'II':2,'III':3,'IV':4}\n",
    "udf_1[\"Year\"] = udf_1['Year'].map(code)"
   ]
  },
  {
   "cell_type": "code",
   "execution_count": 123,
   "metadata": {},
   "outputs": [
    {
     "data": {
      "text/html": [
       "<div>\n",
       "<style scoped>\n",
       "    .dataframe tbody tr th:only-of-type {\n",
       "        vertical-align: middle;\n",
       "    }\n",
       "\n",
       "    .dataframe tbody tr th {\n",
       "        vertical-align: top;\n",
       "    }\n",
       "\n",
       "    .dataframe thead th {\n",
       "        text-align: right;\n",
       "    }\n",
       "</style>\n",
       "<table border=\"1\" class=\"dataframe\">\n",
       "  <thead>\n",
       "    <tr style=\"text-align: right;\">\n",
       "      <th></th>\n",
       "      <th>Name</th>\n",
       "      <th>Year</th>\n",
       "      <th>Breakfast</th>\n",
       "      <th>Lunch</th>\n",
       "      <th>Dinner</th>\n",
       "      <th>Chinese</th>\n",
       "      <th>Italain</th>\n",
       "      <th>North</th>\n",
       "      <th>South</th>\n",
       "      <th>Continental</th>\n",
       "      <th>...</th>\n",
       "      <th>Cusinies_Italian</th>\n",
       "      <th>Cusinies_North Indian</th>\n",
       "      <th>Cusinies_South Indian</th>\n",
       "      <th>Cusinies_Street Food(Indian)</th>\n",
       "      <th>Cusinies_Street Indian</th>\n",
       "      <th>Spicy-Sweet_Spicy</th>\n",
       "      <th>Spicy-Sweet_Sweet</th>\n",
       "      <th>North-South_Both</th>\n",
       "      <th>North-South_North Indian</th>\n",
       "      <th>North-South_South Indian</th>\n",
       "    </tr>\n",
       "  </thead>\n",
       "  <tbody>\n",
       "    <tr>\n",
       "      <td>0</td>\n",
       "      <td>Sushant khatri</td>\n",
       "      <td>1</td>\n",
       "      <td>-0.540481</td>\n",
       "      <td>-0.246561</td>\n",
       "      <td>-1.217953</td>\n",
       "      <td>-1.007682</td>\n",
       "      <td>-0.550120</td>\n",
       "      <td>-0.730933</td>\n",
       "      <td>-0.784373</td>\n",
       "      <td>0.834131</td>\n",
       "      <td>...</td>\n",
       "      <td>0</td>\n",
       "      <td>0</td>\n",
       "      <td>0</td>\n",
       "      <td>0</td>\n",
       "      <td>1</td>\n",
       "      <td>1</td>\n",
       "      <td>0</td>\n",
       "      <td>0</td>\n",
       "      <td>1</td>\n",
       "      <td>0</td>\n",
       "    </tr>\n",
       "    <tr>\n",
       "      <td>1</td>\n",
       "      <td>Muskaan Dhadwal</td>\n",
       "      <td>3</td>\n",
       "      <td>-0.540481</td>\n",
       "      <td>0.915511</td>\n",
       "      <td>0.021613</td>\n",
       "      <td>2.067254</td>\n",
       "      <td>-0.890576</td>\n",
       "      <td>0.841771</td>\n",
       "      <td>1.558334</td>\n",
       "      <td>-0.692300</td>\n",
       "      <td>...</td>\n",
       "      <td>0</td>\n",
       "      <td>0</td>\n",
       "      <td>0</td>\n",
       "      <td>0</td>\n",
       "      <td>0</td>\n",
       "      <td>0</td>\n",
       "      <td>1</td>\n",
       "      <td>1</td>\n",
       "      <td>0</td>\n",
       "      <td>0</td>\n",
       "    </tr>\n",
       "  </tbody>\n",
       "</table>\n",
       "<p>2 rows × 39 columns</p>\n",
       "</div>"
      ],
      "text/plain": [
       "              Name  Year  Breakfast     Lunch    Dinner   Chinese   Italain  \\\n",
       "0   Sushant khatri     1  -0.540481 -0.246561 -1.217953 -1.007682 -0.550120   \n",
       "1  Muskaan Dhadwal     3  -0.540481  0.915511  0.021613  2.067254 -0.890576   \n",
       "\n",
       "      North     South  Continental  ...  Cusinies_Italian  \\\n",
       "0 -0.730933 -0.784373     0.834131  ...                 0   \n",
       "1  0.841771  1.558334    -0.692300  ...                 0   \n",
       "\n",
       "   Cusinies_North Indian  Cusinies_South Indian  Cusinies_Street Food(Indian)  \\\n",
       "0                      0                      0                             0   \n",
       "1                      0                      0                             0   \n",
       "\n",
       "   Cusinies_Street Indian  Spicy-Sweet_Spicy  Spicy-Sweet_Sweet  \\\n",
       "0                       1                  1                  0   \n",
       "1                       0                  0                  1   \n",
       "\n",
       "   North-South_Both  North-South_North Indian  North-South_South Indian  \n",
       "0                 0                         1                         0  \n",
       "1                 1                         0                         0  \n",
       "\n",
       "[2 rows x 39 columns]"
      ]
     },
     "execution_count": 123,
     "metadata": {},
     "output_type": "execute_result"
    }
   ],
   "source": [
    "udf_1.head(2)"
   ]
  },
  {
   "cell_type": "code",
   "execution_count": 124,
   "metadata": {},
   "outputs": [],
   "source": [
    "udf_1['year'] = udf_1['Year']"
   ]
  },
  {
   "cell_type": "code",
   "execution_count": 125,
   "metadata": {},
   "outputs": [
    {
     "data": {
      "text/html": [
       "<div>\n",
       "<style scoped>\n",
       "    .dataframe tbody tr th:only-of-type {\n",
       "        vertical-align: middle;\n",
       "    }\n",
       "\n",
       "    .dataframe tbody tr th {\n",
       "        vertical-align: top;\n",
       "    }\n",
       "\n",
       "    .dataframe thead th {\n",
       "        text-align: right;\n",
       "    }\n",
       "</style>\n",
       "<table border=\"1\" class=\"dataframe\">\n",
       "  <thead>\n",
       "    <tr style=\"text-align: right;\">\n",
       "      <th></th>\n",
       "      <th>Name</th>\n",
       "      <th>Year</th>\n",
       "      <th>Breakfast</th>\n",
       "      <th>Lunch</th>\n",
       "      <th>Dinner</th>\n",
       "      <th>Chinese</th>\n",
       "      <th>Italain</th>\n",
       "      <th>North</th>\n",
       "      <th>South</th>\n",
       "      <th>Continental</th>\n",
       "      <th>...</th>\n",
       "      <th>Cusinies_North Indian</th>\n",
       "      <th>Cusinies_South Indian</th>\n",
       "      <th>Cusinies_Street Food(Indian)</th>\n",
       "      <th>Cusinies_Street Indian</th>\n",
       "      <th>Spicy-Sweet_Spicy</th>\n",
       "      <th>Spicy-Sweet_Sweet</th>\n",
       "      <th>North-South_Both</th>\n",
       "      <th>North-South_North Indian</th>\n",
       "      <th>North-South_South Indian</th>\n",
       "      <th>year</th>\n",
       "    </tr>\n",
       "  </thead>\n",
       "  <tbody>\n",
       "    <tr>\n",
       "      <td>0</td>\n",
       "      <td>Sushant khatri</td>\n",
       "      <td>1</td>\n",
       "      <td>-0.540481</td>\n",
       "      <td>-0.246561</td>\n",
       "      <td>-1.217953</td>\n",
       "      <td>-1.007682</td>\n",
       "      <td>-0.550120</td>\n",
       "      <td>-0.730933</td>\n",
       "      <td>-0.784373</td>\n",
       "      <td>0.834131</td>\n",
       "      <td>...</td>\n",
       "      <td>0</td>\n",
       "      <td>0</td>\n",
       "      <td>0</td>\n",
       "      <td>1</td>\n",
       "      <td>1</td>\n",
       "      <td>0</td>\n",
       "      <td>0</td>\n",
       "      <td>1</td>\n",
       "      <td>0</td>\n",
       "      <td>1</td>\n",
       "    </tr>\n",
       "    <tr>\n",
       "      <td>1</td>\n",
       "      <td>Muskaan Dhadwal</td>\n",
       "      <td>3</td>\n",
       "      <td>-0.540481</td>\n",
       "      <td>0.915511</td>\n",
       "      <td>0.021613</td>\n",
       "      <td>2.067254</td>\n",
       "      <td>-0.890576</td>\n",
       "      <td>0.841771</td>\n",
       "      <td>1.558334</td>\n",
       "      <td>-0.692300</td>\n",
       "      <td>...</td>\n",
       "      <td>0</td>\n",
       "      <td>0</td>\n",
       "      <td>0</td>\n",
       "      <td>0</td>\n",
       "      <td>0</td>\n",
       "      <td>1</td>\n",
       "      <td>1</td>\n",
       "      <td>0</td>\n",
       "      <td>0</td>\n",
       "      <td>3</td>\n",
       "    </tr>\n",
       "  </tbody>\n",
       "</table>\n",
       "<p>2 rows × 40 columns</p>\n",
       "</div>"
      ],
      "text/plain": [
       "              Name  Year  Breakfast     Lunch    Dinner   Chinese   Italain  \\\n",
       "0   Sushant khatri     1  -0.540481 -0.246561 -1.217953 -1.007682 -0.550120   \n",
       "1  Muskaan Dhadwal     3  -0.540481  0.915511  0.021613  2.067254 -0.890576   \n",
       "\n",
       "      North     South  Continental  ...  Cusinies_North Indian  \\\n",
       "0 -0.730933 -0.784373     0.834131  ...                      0   \n",
       "1  0.841771  1.558334    -0.692300  ...                      0   \n",
       "\n",
       "   Cusinies_South Indian  Cusinies_Street Food(Indian)  \\\n",
       "0                      0                             0   \n",
       "1                      0                             0   \n",
       "\n",
       "   Cusinies_Street Indian  Spicy-Sweet_Spicy  Spicy-Sweet_Sweet  \\\n",
       "0                       1                  1                  0   \n",
       "1                       0                  0                  1   \n",
       "\n",
       "   North-South_Both  North-South_North Indian  North-South_South Indian  year  \n",
       "0                 0                         1                         0     1  \n",
       "1                 1                         0                         0     3  \n",
       "\n",
       "[2 rows x 40 columns]"
      ]
     },
     "execution_count": 125,
     "metadata": {},
     "output_type": "execute_result"
    }
   ],
   "source": [
    "udf_1.head(2)"
   ]
  },
  {
   "cell_type": "code",
   "execution_count": 126,
   "metadata": {},
   "outputs": [
    {
     "data": {
      "text/plain": [
       "Index(['Name', 'Year', 'Breakfast', 'Lunch', 'Dinner', 'Chinese', 'Italain',\n",
       "       'North', 'South', 'Continental', 'Tea/Coffee', 'Maggie', 'Juices',\n",
       "       'Rolls', 'Samosa/Puff', 'Panipuri', 'Shawarma', 'Sugar rush', 'Spicy',\n",
       "       'Sweet', 'All-time', 'Vegetarin_No', 'Vegetarin_Yes',\n",
       "       'Hosteller_Day Scholar', 'Hosteller_Hosteller', 'Dine-in_Dine-in',\n",
       "       'Dine-in_Take-away', 'Cusinies_Chinese', 'Cusinies_Continental',\n",
       "       'Cusinies_Italian', 'Cusinies_North Indian', 'Cusinies_South Indian',\n",
       "       'Cusinies_Street Food(Indian)', 'Cusinies_Street Indian',\n",
       "       'Spicy-Sweet_Spicy', 'Spicy-Sweet_Sweet', 'North-South_Both',\n",
       "       'North-South_North Indian', 'North-South_South Indian', 'year'],\n",
       "      dtype='object')"
      ]
     },
     "execution_count": 126,
     "metadata": {},
     "output_type": "execute_result"
    }
   ],
   "source": [
    "udf_1.columns"
   ]
  },
  {
   "cell_type": "code",
   "execution_count": 194,
   "metadata": {},
   "outputs": [
    {
     "data": {
      "image/png": "[encoded data removed]",
      "text/plain": [
       "<Figure size 432x288 with 1 Axes>"
      ]
     },
     "metadata": {
      "needs_background": "light"
     },
     "output_type": "display_data"
    }
   ],
   "source": [
    "X = udf_1.iloc[:,8:].values\n",
    "from sklearn.cluster import KMeans\n",
    "wcss = list()\n",
    "for i in range(1, 11):\n",
    "    kmeans = KMeans(n_clusters = i, init = 'k-means++',max_iter=250,random_state=50)\n",
    "    kmeans.fit(X)\n",
    "    wcss.append(kmeans.inertia_)\n",
    "plt.plot(range(1, 11), wcss)\n",
    "plt.title('The Elbow Method')\n",
    "plt.xlabel('Number of clusters')\n",
    "plt.ylabel('WCSS')\n",
    "plt.show()"
   ]
  },
  {
   "cell_type": "code",
   "execution_count": 198,
   "metadata": {},
   "outputs": [],
   "source": [
    "kmeans = KMeans(n_clusters = 5, init = 'k-means++',random_state=50)"
   ]
  },
  {
   "cell_type": "code",
   "execution_count": 131,
   "metadata": {},
   "outputs": [
    {
     "data": {
      "image/png": "[encoded data removed]",
      "text/plain": [
       "<Figure size 432x288 with 1 Axes>"
      ]
     },
     "metadata": {
      "needs_background": "light"
     },
     "output_type": "display_data"
    }
   ],
   "source": [
    "y_kmeans = kmeans.fit_predict(X)\n",
    "plt.scatter(X[y_kmeans == 0, 0], X[y_kmeans == 0, 1], s = 80, c = 'red', label = 'Cluster 1')\n",
    "plt.scatter(X[y_kmeans == 1, 0], X[y_kmeans == 1, 1], s = 80, c = 'blue', label = 'Cluster 2')\n",
    "plt.scatter(X[y_kmeans == 2, 0], X[y_kmeans == 2, 1], s = 80, c = 'green', label = 'Cluster 3')\n",
    "plt.scatter(X[y_kmeans == 3, 0], X[y_kmeans == 3, 1], s = 80, c = 'cyan', label = 'Cluster 4')\n",
    "plt.scatter(X[y_kmeans == 4, 0], X[y_kmeans == 4, 1], s = 80, c = 'magenta', label = 'Cluster 5')\n",
    "#plt.scatter(X[y_kmeans == 5, 0], X[y_kmeans == 5, 1], s = 80, c = 'grey', label = 'Cluster 6')\n",
    "plt.scatter(kmeans.cluster_centers_[:, 0], kmeans.cluster_centers_[:, 1], s = 200, c = 'yellow', label = 'Centroids')\n",
    "plt.legend(loc='right',bbox_to_anchor=(1.9,.5))\n",
    "plt.show()"
   ]
  },
  {
   "cell_type": "code",
   "execution_count": 132,
   "metadata": {},
   "outputs": [],
   "source": [
    "from sklearn.neighbors import NearestNeighbors\n",
    "model=NearestNeighbors(algorithm='brute')"
   ]
  },
  {
   "cell_type": "code",
   "execution_count": 133,
   "metadata": {},
   "outputs": [
    {
     "data": {
      "text/plain": [
       "NearestNeighbors(algorithm='brute', leaf_size=30, metric='minkowski',\n",
       "                 metric_params=None, n_jobs=None, n_neighbors=5, p=2,\n",
       "                 radius=1.0)"
      ]
     },
     "execution_count": 133,
     "metadata": {},
     "output_type": "execute_result"
    }
   ],
   "source": [
    "model.fit(X)"
   ]
  },
  {
   "cell_type": "code",
   "execution_count": 134,
   "metadata": {
    "scrolled": true
   },
   "outputs": [
    {
     "data": {
      "image/png": "[encoded data removed]",
      "text/plain": [
       "<Figure size 432x288 with 1 Axes>"
      ]
     },
     "metadata": {
      "needs_background": "light"
     },
     "output_type": "display_data"
    }
   ],
   "source": [
    "import scipy.cluster.hierarchy as sch\n",
    "dendrogram = sch.dendrogram(sch.linkage(X, method = 'ward'))\n",
    "plt.title('Dendrogram')\n",
    "plt.xlabel('Features')\n",
    "plt.ylabel('Euclidean distances')\n",
    "plt.show()"
   ]
  },
  {
   "cell_type": "code",
   "execution_count": 135,
   "metadata": {},
   "outputs": [],
   "source": [
    "from sklearn.cluster import AgglomerativeClustering\n",
    "hc = AgglomerativeClustering(n_clusters = 4  , affinity = 'euclidean', linkage = 'ward')"
   ]
  },
  {
   "cell_type": "code",
   "execution_count": null,
   "metadata": {},
   "outputs": [],
   "source": []
  }
 ],
 "metadata": {
  "kernelspec": {
   "display_name": "Python 3",
   "language": "python",
   "name": "python3"
  },
  "language_info": {
   "codemirror_mode": {
    "name": "ipython",
    "version": 3
   },
   "file_extension": ".py",
   "mimetype": "text/x-python",
   "name": "python",
   "nbconvert_exporter": "python",
   "pygments_lexer": "ipython3",
   "version": "3.7.4"
  }
 },
 "nbformat": 4,
 "nbformat_minor": 2
}
